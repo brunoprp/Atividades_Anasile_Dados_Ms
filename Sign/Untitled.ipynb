{
 "cells": [
  {
   "cell_type": "markdown",
   "id": "unable-evolution",
   "metadata": {},
   "source": [
    "# UECE - Universidade Estadual do Ceará\n",
    "## Programa de Pós-graduação em Ciência da Computação\n",
    "## Fundamentos de Análise de Dados - 2021-1"
   ]
  },
  {
   "cell_type": "markdown",
   "id": "broad-mount",
   "metadata": {},
   "source": [
    "# Classificação de imagens \n",
    "   ###  Domingos Bruno Sousa Santos\n",
    " * Apresentação parcial \n",
    " * Projeções Ortogonais\n",
    " \n",
    "### *Sign Language MNIST* - reconhecimento de linguagem americana de sinais:\n",
    "* 27455 (79.3%) imagens de treinamento;\n",
    "* 7172 (20.7%) imagens de teste;\n",
    "* imagens com 28 × 28 pixels;\n",
    "* 24 letras (excluídos o J e o Z) (classes)."
   ]
  },
  {
   "cell_type": "markdown",
   "id": "bottom-proposition",
   "metadata": {},
   "source": [
    "<img src=\"img_sing.png\">"
   ]
  },
  {
   "cell_type": "code",
   "execution_count": 1,
   "id": "bacterial-november",
   "metadata": {},
   "outputs": [],
   "source": [
    "# Importando as bibliotecas\n",
    "import numpy as np\n",
    "import pandas as pd\n",
    "import matplotlib.pyplot as plt\n",
    "from sklearn.model_selection import train_test_split"
   ]
  },
  {
   "cell_type": "code",
   "execution_count": 2,
   "id": "empty-mounting",
   "metadata": {},
   "outputs": [
    {
     "data": {
      "text/html": [
       "<div>\n",
       "<style scoped>\n",
       "    .dataframe tbody tr th:only-of-type {\n",
       "        vertical-align: middle;\n",
       "    }\n",
       "\n",
       "    .dataframe tbody tr th {\n",
       "        vertical-align: top;\n",
       "    }\n",
       "\n",
       "    .dataframe thead th {\n",
       "        text-align: right;\n",
       "    }\n",
       "</style>\n",
       "<table border=\"1\" class=\"dataframe\">\n",
       "  <thead>\n",
       "    <tr style=\"text-align: right;\">\n",
       "      <th></th>\n",
       "      <th>label</th>\n",
       "      <th>pixel1</th>\n",
       "      <th>pixel2</th>\n",
       "      <th>pixel3</th>\n",
       "      <th>pixel4</th>\n",
       "      <th>pixel5</th>\n",
       "      <th>pixel6</th>\n",
       "      <th>pixel7</th>\n",
       "      <th>pixel8</th>\n",
       "      <th>pixel9</th>\n",
       "      <th>...</th>\n",
       "      <th>pixel775</th>\n",
       "      <th>pixel776</th>\n",
       "      <th>pixel777</th>\n",
       "      <th>pixel778</th>\n",
       "      <th>pixel779</th>\n",
       "      <th>pixel780</th>\n",
       "      <th>pixel781</th>\n",
       "      <th>pixel782</th>\n",
       "      <th>pixel783</th>\n",
       "      <th>pixel784</th>\n",
       "    </tr>\n",
       "  </thead>\n",
       "  <tbody>\n",
       "    <tr>\n",
       "      <th>0</th>\n",
       "      <td>3</td>\n",
       "      <td>107</td>\n",
       "      <td>118</td>\n",
       "      <td>127</td>\n",
       "      <td>134</td>\n",
       "      <td>139</td>\n",
       "      <td>143</td>\n",
       "      <td>146</td>\n",
       "      <td>150</td>\n",
       "      <td>153</td>\n",
       "      <td>...</td>\n",
       "      <td>207</td>\n",
       "      <td>207</td>\n",
       "      <td>207</td>\n",
       "      <td>207</td>\n",
       "      <td>206</td>\n",
       "      <td>206</td>\n",
       "      <td>206</td>\n",
       "      <td>204</td>\n",
       "      <td>203</td>\n",
       "      <td>202</td>\n",
       "    </tr>\n",
       "    <tr>\n",
       "      <th>1</th>\n",
       "      <td>6</td>\n",
       "      <td>155</td>\n",
       "      <td>157</td>\n",
       "      <td>156</td>\n",
       "      <td>156</td>\n",
       "      <td>156</td>\n",
       "      <td>157</td>\n",
       "      <td>156</td>\n",
       "      <td>158</td>\n",
       "      <td>158</td>\n",
       "      <td>...</td>\n",
       "      <td>69</td>\n",
       "      <td>149</td>\n",
       "      <td>128</td>\n",
       "      <td>87</td>\n",
       "      <td>94</td>\n",
       "      <td>163</td>\n",
       "      <td>175</td>\n",
       "      <td>103</td>\n",
       "      <td>135</td>\n",
       "      <td>149</td>\n",
       "    </tr>\n",
       "    <tr>\n",
       "      <th>2</th>\n",
       "      <td>2</td>\n",
       "      <td>187</td>\n",
       "      <td>188</td>\n",
       "      <td>188</td>\n",
       "      <td>187</td>\n",
       "      <td>187</td>\n",
       "      <td>186</td>\n",
       "      <td>187</td>\n",
       "      <td>188</td>\n",
       "      <td>187</td>\n",
       "      <td>...</td>\n",
       "      <td>202</td>\n",
       "      <td>201</td>\n",
       "      <td>200</td>\n",
       "      <td>199</td>\n",
       "      <td>198</td>\n",
       "      <td>199</td>\n",
       "      <td>198</td>\n",
       "      <td>195</td>\n",
       "      <td>194</td>\n",
       "      <td>195</td>\n",
       "    </tr>\n",
       "    <tr>\n",
       "      <th>3</th>\n",
       "      <td>2</td>\n",
       "      <td>211</td>\n",
       "      <td>211</td>\n",
       "      <td>212</td>\n",
       "      <td>212</td>\n",
       "      <td>211</td>\n",
       "      <td>210</td>\n",
       "      <td>211</td>\n",
       "      <td>210</td>\n",
       "      <td>210</td>\n",
       "      <td>...</td>\n",
       "      <td>235</td>\n",
       "      <td>234</td>\n",
       "      <td>233</td>\n",
       "      <td>231</td>\n",
       "      <td>230</td>\n",
       "      <td>226</td>\n",
       "      <td>225</td>\n",
       "      <td>222</td>\n",
       "      <td>229</td>\n",
       "      <td>163</td>\n",
       "    </tr>\n",
       "    <tr>\n",
       "      <th>4</th>\n",
       "      <td>13</td>\n",
       "      <td>164</td>\n",
       "      <td>167</td>\n",
       "      <td>170</td>\n",
       "      <td>172</td>\n",
       "      <td>176</td>\n",
       "      <td>179</td>\n",
       "      <td>180</td>\n",
       "      <td>184</td>\n",
       "      <td>185</td>\n",
       "      <td>...</td>\n",
       "      <td>92</td>\n",
       "      <td>105</td>\n",
       "      <td>105</td>\n",
       "      <td>108</td>\n",
       "      <td>133</td>\n",
       "      <td>163</td>\n",
       "      <td>157</td>\n",
       "      <td>163</td>\n",
       "      <td>164</td>\n",
       "      <td>179</td>\n",
       "    </tr>\n",
       "  </tbody>\n",
       "</table>\n",
       "<p>5 rows × 785 columns</p>\n",
       "</div>"
      ],
      "text/plain": [
       "   label  pixel1  pixel2  pixel3  pixel4  pixel5  pixel6  pixel7  pixel8  \\\n",
       "0      3     107     118     127     134     139     143     146     150   \n",
       "1      6     155     157     156     156     156     157     156     158   \n",
       "2      2     187     188     188     187     187     186     187     188   \n",
       "3      2     211     211     212     212     211     210     211     210   \n",
       "4     13     164     167     170     172     176     179     180     184   \n",
       "\n",
       "   pixel9  ...  pixel775  pixel776  pixel777  pixel778  pixel779  pixel780  \\\n",
       "0     153  ...       207       207       207       207       206       206   \n",
       "1     158  ...        69       149       128        87        94       163   \n",
       "2     187  ...       202       201       200       199       198       199   \n",
       "3     210  ...       235       234       233       231       230       226   \n",
       "4     185  ...        92       105       105       108       133       163   \n",
       "\n",
       "   pixel781  pixel782  pixel783  pixel784  \n",
       "0       206       204       203       202  \n",
       "1       175       103       135       149  \n",
       "2       198       195       194       195  \n",
       "3       225       222       229       163  \n",
       "4       157       163       164       179  \n",
       "\n",
       "[5 rows x 785 columns]"
      ]
     },
     "execution_count": 2,
     "metadata": {},
     "output_type": "execute_result"
    }
   ],
   "source": [
    "# Leitura dos dados .CSV\n",
    "df_train = pd.read_csv(\"sign_mnist_train/sign_mnist_train.csv\")\n",
    "df_test = pd.read_csv(\"sign_mnist_test/sign_mnist_test.csv\")\n",
    "df_train.head()"
   ]
  },
  {
   "cell_type": "code",
   "execution_count": 3,
   "id": "touched-result",
   "metadata": {},
   "outputs": [],
   "source": [
    "# Pegando as classes das imagens de treino e teste\n",
    "train_label = df_train[\"label\"].values\n",
    "test_label = df_test[\"label\"].values\n",
    "\n",
    "# Removendo a coluna das classes do data frame\n",
    "del df_train[\"label\"]\n",
    "del df_test[\"label\"]\n",
    "\n",
    "# Juntando os dados de teste de treinamneto\n",
    "X_data = np.concatenate((df_train.values, df_test.values), axis=0)\n",
    "Y_data = np.concatenate((train_label, test_label), axis=0)"
   ]
  },
  {
   "cell_type": "code",
   "execution_count": 4,
   "id": "suspended-athletics",
   "metadata": {},
   "outputs": [
    {
     "name": "stdout",
     "output_type": "stream",
     "text": [
      "(34627, 784)\n"
     ]
    },
    {
     "data": {
      "text/plain": [
       "array([ 0,  1,  2,  3,  4,  5,  6,  7,  8, 10, 11, 12, 13, 14, 15, 16, 17,\n",
       "       18, 19, 20, 21, 22, 23, 24])"
      ]
     },
     "execution_count": 4,
     "metadata": {},
     "output_type": "execute_result"
    }
   ],
   "source": [
    "# 28x28\n",
    "print(X_data.shape)\n",
    "np.unique(Y_data)"
   ]
  },
  {
   "cell_type": "code",
   "execution_count": 27,
   "id": "reported-theme",
   "metadata": {},
   "outputs": [
    {
     "data": {
      "image/png": "[encoded data removed]",
      "text/plain": [
       "<Figure size 2016x2016 with 15 Axes>"
      ]
     },
     "metadata": {},
     "output_type": "display_data"
    }
   ],
   "source": [
    "# Platar algumas imagens do dataset\n",
    "class_names = ['A', 'B', 'C', 'D', 'E', 'F', 'G', 'H', 'I', 'J', 'K', 'L', \n",
    "               'M', 'N', 'O', 'P', 'Q', 'R', 'S', 'T', 'U', 'V', 'W', 'X', 'Y' ]\n",
    "plt.figure(figsize=(28,28))\n",
    "for i in range(15):\n",
    "    plt.subplot(5,5,i+1)\n",
    "    plt.xticks([])\n",
    "    plt.yticks([])\n",
    "    plt.grid(True)\n",
    "    img = X_data[i].reshape(28, 28)\n",
    "    plt.imshow(img, cmap=plt.cm.binary)\n",
    "    label_index = int(Y_data[i])\n",
    "    plt.title(class_names[label_index], fontsize=20)\n",
    "plt.show()"
   ]
  },
  {
   "cell_type": "markdown",
   "id": "opened-outdoors",
   "metadata": {},
   "source": [
    "# "
   ]
  },
  {
   "cell_type": "markdown",
   "id": "parliamentary-provision",
   "metadata": {},
   "source": [
    "## 1. Centralizar a matriz de dados original $\\tilde{X}$ obtendo a matriz $X$.\n",
    "Centralizar a matriz de dados original obtendo a matriz X.\n",
    "A centralização de dados caracteriza-se pela subtração dos dados amostrais de cada variável, da sua média amostral.\n",
    "\\begin{equation}\n",
    "X = \\tilde{X} - \\mu \n",
    "\\end{equation}"
   ]
  },
  {
   "cell_type": "code",
   "execution_count": 6,
   "id": "strange-springer",
   "metadata": {},
   "outputs": [
    {
     "data": {
      "text/plain": [
       "array([[-38.85707685, -30.90322581, -24.67782366, ...,  42.92286366,\n",
       "         42.78869091,  43.22081035],\n",
       "       [  9.14292315,   8.09677419,   4.32217634, ..., -58.07713634,\n",
       "        -25.21130909,  -9.77918965],\n",
       "       [ 41.14292315,  39.09677419,  36.32217634, ...,  33.92286366,\n",
       "         33.78869091,  36.22081035],\n",
       "       ...,\n",
       "       [ 44.14292315,  42.09677419,  38.32217634, ...,  49.92286366,\n",
       "         48.78869091,  49.22081035],\n",
       "       [ 55.14292315,  56.09677419,  56.32217634, ..., -94.07713634,\n",
       "        -90.21130909, -95.77918965],\n",
       "       [ 27.14292315,  25.09677419,  21.32217634, ...,  33.92286366,\n",
       "         32.78869091,  33.22081035]])"
      ]
     },
     "execution_count": 6,
     "metadata": {},
     "output_type": "execute_result"
    }
   ],
   "source": [
    "# Centralizando a matriz de dados\n",
    "mean_x = np.mean(X_data, axis=0)\n",
    "X_central = X_data - mean_x\n",
    "X_central"
   ]
  },
  {
   "cell_type": "markdown",
   "id": "knowing-necklace",
   "metadata": {},
   "source": [
    "## 2. Dividir o banco de dados em conjunto de treinamento e conjunto de teste (proporções comumente utilizadas são 60%/40% e 70%/30%.)\n",
    "\n"
   ]
  },
  {
   "cell_type": "code",
   "execution_count": 7,
   "id": "persistent-inspiration",
   "metadata": {},
   "outputs": [],
   "source": [
    "# Dividindo os dados com o X normal\n",
    "X_train, X_test, Y_train, Y_test = train_test_split (X_data, Y_data, \n",
    "                                                                     test_size=0.3, \n",
    "                                                                     random_state = 0)\n",
    "# Dividindo os dados com o X centralizado \n",
    "X_train_cent, X_test_cent, Y_train_cent, Y_test_cent = train_test_split (X_central, Y_data, \n",
    "                                                                     test_size=0.3, \n",
    "                                                                     random_state = 0)"
   ]
  },
  {
   "cell_type": "code",
   "execution_count": 8,
   "id": "powered-future",
   "metadata": {},
   "outputs": [
    {
     "name": "stdout",
     "output_type": "stream",
     "text": [
      "(24238, 784)\n",
      "(24238, 784)\n"
     ]
    }
   ],
   "source": [
    "print(X_train.shape)\n",
    "print(X_train_cent.shape)"
   ]
  },
  {
   "cell_type": "code",
   "execution_count": 9,
   "id": "suitable-johnson",
   "metadata": {},
   "outputs": [
    {
     "data": {
      "text/plain": [
       "array([220, 222, 224, 224, 225, 226, 227, 228, 228, 228, 227, 228, 229,\n",
       "       229, 228, 229, 229, 228, 228, 228, 227, 228, 227, 225, 223, 222,\n",
       "       221, 220, 221, 223])"
      ]
     },
     "execution_count": 9,
     "metadata": {},
     "output_type": "execute_result"
    }
   ],
   "source": [
    "X_train[0][:30]"
   ]
  },
  {
   "cell_type": "code",
   "execution_count": 10,
   "id": "infinite-genome",
   "metadata": {},
   "outputs": [
    {
     "data": {
      "text/plain": [
       "array([74.14292315, 73.09677419, 72.32217634, 70.01501718, 68.38340024,\n",
       "       67.09587894, 66.15282872, 65.38908944, 63.70661622, 62.09813152,\n",
       "       59.90342796, 59.83102781, 60.12527796, 59.34270945, 57.63791261,\n",
       "       58.10725734, 57.80541196, 56.67687065, 56.72463684, 57.01908915,\n",
       "       56.4524504 , 58.01195599, 57.9609842 , 57.12100384, 56.28769457,\n",
       "       57.51202819, 58.19712941, 57.68648742, 73.40734109, 72.30952725])"
      ]
     },
     "execution_count": 10,
     "metadata": {},
     "output_type": "execute_result"
    }
   ],
   "source": [
    "X_train_cent[0][:30]"
   ]
  },
  {
   "cell_type": "markdown",
   "id": "controlling-brave",
   "metadata": {},
   "source": [
    "\n",
    "## 3. Calcular a matriz de covariância dos dados treinamento de duas maneiras:\n",
    "   \n",
    "* 1) Utilizado base de treinamento original $\\tilde{X}$ (não centralizada):\n",
    "\\begin{align} np.cov(X) \\end{align}\n",
    "* 2) Utilizando base de treinamento centralizada $X$:\n",
    "\\begin{equation}\n",
    " \\frac{1}{m-1}X^TX\n",
    "\\end{equation}\n",
    "\n",
    "Comparar os resultados. Atenção: verique se o parâmetro $rowvar$ na\n",
    "função np.cov() deve ser $True$ ou $False$."
   ]
  },
  {
   "cell_type": "code",
   "execution_count": 11,
   "id": "corrected-fisher",
   "metadata": {},
   "outputs": [
    {
     "name": "stdout",
     "output_type": "stream",
     "text": [
      "(784, 784)\n"
     ]
    },
    {
     "data": {
      "text/plain": [
       "array([[1758.84240595, 1663.11672143, 1598.12326788, ...,  571.88417094,\n",
       "         494.90122972,  471.05427825],\n",
       "       [1663.11672143, 1628.32121452, 1560.76925607, ...,  562.13017486,\n",
       "         491.25674584,  462.9857588 ],\n",
       "       [1598.12326788, 1560.76925607, 1550.71494166, ...,  525.42630113,\n",
       "         457.08547669,  437.84991878],\n",
       "       ...,\n",
       "       [ 571.88417094,  562.13017486,  525.42630113, ..., 4133.63083713,\n",
       "        4008.23019838, 3837.78402238],\n",
       "       [ 494.90122972,  491.25674584,  457.08547669, ..., 4008.23019838,\n",
       "        4200.17151118, 4098.63249   ],\n",
       "       [ 471.05427825,  462.9857588 ,  437.84991878, ..., 3837.78402238,\n",
       "        4098.63249   , 4310.49597647]])"
      ]
     },
     "execution_count": 11,
     "metadata": {},
     "output_type": "execute_result"
    }
   ],
   "source": [
    "# Calculando a matriz de covariância com a primeira forma com X Não cetralizado\n",
    "cov_mat_X_normal = np.cov(X_train, rowvar=False)\n",
    "print(cov_mat_X_normal.shape)\n",
    "cov_mat_X_normal"
   ]
  },
  {
   "cell_type": "code",
   "execution_count": 12,
   "id": "caroline-community",
   "metadata": {},
   "outputs": [
    {
     "name": "stdout",
     "output_type": "stream",
     "text": [
      "(784, 784)\n"
     ]
    },
    {
     "data": {
      "text/plain": [
       "array([[1758.85714787, 1663.12183801, 1598.13083259, ...,  571.91156573,\n",
       "         494.92711206,  471.0931415 ],\n",
       "       [1663.12183801, 1628.32299036, 1560.77188161, ...,  562.13968295,\n",
       "         491.26572899,  462.99924733],\n",
       "       [1598.13083259, 1560.77188161, 1550.71882343, ...,  525.44035855,\n",
       "         457.09875801,  437.86986115],\n",
       "       ...,\n",
       "       [ 571.91156573,  562.13968295,  525.44035855, ..., 4133.6817446 ,\n",
       "        4008.27829527, 3837.85624158],\n",
       "       [ 494.92711206,  491.26572899,  457.09875801, ..., 4008.27829527,\n",
       "        4200.21695266, 4098.700722  ],\n",
       "       [ 471.0931415 ,  462.99924733,  437.86986115, ..., 3837.85624158,\n",
       "        4098.700722  , 4310.59842926]])"
      ]
     },
     "execution_count": 12,
     "metadata": {},
     "output_type": "execute_result"
    }
   ],
   "source": [
    "m = X_train_cent.shape[0] # Pegando o numero de linhas\n",
    "# Aplicando a formula do método da segunda forma\n",
    "cov_mat_X_cent = (1/(m-1)) * np.dot(X_train_cent.T, X_train_cent)\n",
    "print(cov_mat_X_cent.shape)\n",
    "cov_mat_X_cent "
   ]
  },
  {
   "cell_type": "code",
   "execution_count": 13,
   "id": "collaborative-print",
   "metadata": {},
   "outputs": [
    {
     "data": {
      "text/plain": [
       "array([[ True,  True,  True, ...,  True,  True,  True],\n",
       "       [ True,  True,  True, ...,  True,  True,  True],\n",
       "       [ True,  True,  True, ...,  True,  True,  True],\n",
       "       ...,\n",
       "       [ True,  True,  True, ...,  True,  True,  True],\n",
       "       [ True,  True,  True, ...,  True,  True,  True],\n",
       "       [ True,  True,  True, ...,  True,  True,  True]])"
      ]
     },
     "execution_count": 13,
     "metadata": {},
     "output_type": "execute_result"
    }
   ],
   "source": [
    "# Comparando valores por valores\n",
    "cov_mat_X_cent.astype(\"int\") == cov_mat_X_normal.astype(\"int\")"
   ]
  },
  {
   "cell_type": "code",
   "execution_count": 14,
   "id": "appreciated-foundation",
   "metadata": {},
   "outputs": [
    {
     "data": {
      "text/plain": [
       "False"
      ]
     },
     "execution_count": 14,
     "metadata": {},
     "output_type": "execute_result"
    }
   ],
   "source": [
    "#Comparando uma matriz pela a outra\n",
    "np.array_equal(cov_mat_X_cent.astype(\"int\"), cov_mat_X_normal.astype(\"int\"))"
   ]
  },
  {
   "cell_type": "markdown",
   "id": "nasty-devil",
   "metadata": {},
   "source": [
    "## 4. Calcular a decomposição espectral da matriz de covariância dos dados de treinamento, isto é, $cov(X) = QΛQ^T$, usando a função do NumPy:\n",
    "\n",
    "\\begin{equation}\n",
    " cov(X) = QΛQ^T\n",
    "\\end{equation}\n",
    "\n",
    "\\begin{equation}\n",
    " w, Q =  np.linalg.eigh(cov(X))\n",
    "\\end{equation}\n",
    "\n",
    "* $w$ trata-se dos autovalores\n",
    "* $Q$ trata-se dos autovetores\n",
    "\n",
    "obtendo-se os autovalores w e seus autovetores associados nas colunas de Q.\n",
    "Atenção: os autovalores (e seus autovetores associados) devem ser ordenados em ordem decrescente."
   ]
  },
  {
   "cell_type": "code",
   "execution_count": 15,
   "id": "enormous-kitty",
   "metadata": {},
   "outputs": [
    {
     "name": "stdout",
     "output_type": "stream",
     "text": [
      "[0.14745258 0.16958537 0.17422916 0.18930397 0.21310705 0.22944502\n",
      " 0.2466118  0.27526125 0.29727973 0.31067351 0.32176178 0.34307929\n",
      " 0.35897833 0.39116202 0.43176493 0.44975302 0.47318182 0.48217013\n",
      " 0.504211   0.52751498 0.58300126 0.60488839 0.63253241 0.64773803\n",
      " 0.66821979 0.68705676 0.72971757 0.75450597 0.77141278 0.83935049]\n"
     ]
    },
    {
     "data": {
      "text/plain": [
       "array([[-1.74662601e-01,  2.04804774e-01, -2.27620336e-02, ...,\n",
       "        -5.69028347e-02,  1.97453913e-03, -4.32044638e-02],\n",
       "       [ 3.20195782e-01,  9.22117072e-03,  1.44834095e-01, ...,\n",
       "        -5.34868140e-02,  8.34214086e-04, -4.27970684e-02],\n",
       "       [-2.13304970e-01, -1.50004618e-01,  1.05105149e-01, ...,\n",
       "        -5.19355120e-02, -1.47820811e-03, -4.28215949e-02],\n",
       "       ...,\n",
       "       [ 6.78827468e-04, -1.40936454e-04, -2.20604967e-03, ...,\n",
       "         2.01134618e-02, -1.42838549e-02, -1.86363450e-02],\n",
       "       [ 3.01351803e-01, -3.68300668e-01,  3.30424364e-02, ...,\n",
       "        -5.75666290e-02,  1.86253130e-03, -4.35284625e-02],\n",
       "       [-5.02723713e-01,  4.03352364e-02, -3.11224325e-01, ...,\n",
       "        -5.40421878e-02,  6.39648536e-04, -4.30531663e-02]])"
      ]
     },
     "execution_count": 15,
     "metadata": {},
     "output_type": "execute_result"
    }
   ],
   "source": [
    "w, Q = np.linalg.eigh(cov_mat_X_cent)\n",
    "print(w[:30])\n",
    "Q[:30]"
   ]
  },
  {
   "cell_type": "code",
   "execution_count": 16,
   "id": "lined-sponsorship",
   "metadata": {},
   "outputs": [
    {
     "data": {
      "text/plain": [
       "array([537091.57034948, 167243.127581  , 131806.49360588,  89385.80370487,\n",
       "        55831.77293111,  53597.22460341,  47562.02333092,  39225.10263378,\n",
       "        37751.74654727,  30333.84345983,  27550.24612598,  24837.14621824,\n",
       "        21505.03598043,  20458.51332271,  16684.46006507,  15183.20045127,\n",
       "        12935.41455703,  12541.26432225,  11372.45421748,  10525.51204508,\n",
       "         9784.02814712,   9175.13699616,   8350.87499621,   7982.44177133,\n",
       "         7816.07466523,   7138.96828496,   6817.79486646,   6291.7949705 ,\n",
       "         5943.65967111,   5910.06088715])"
      ]
     },
     "execution_count": 16,
     "metadata": {},
     "output_type": "execute_result"
    }
   ],
   "source": [
    "# Ordenando os autovalores de forma decrescentes\n",
    "index = np.argsort(w)[::-1] #Obter índices para ordenação decrescente dos autovalores\n",
    "w_dec = w[index]\n",
    "w_dec[:30]"
   ]
  },
  {
   "cell_type": "code",
   "execution_count": 17,
   "id": "roman-butter",
   "metadata": {},
   "outputs": [
    {
     "data": {
      "text/plain": [
       "array([[-0.00016559, -0.00222029, -0.00078143, ...,  0.0385044 ,\n",
       "         0.09539855, -0.03032871],\n",
       "       [-0.0015359 ,  0.00445228,  0.00325329, ...,  0.03659848,\n",
       "         0.09762979, -0.03131344],\n",
       "       [ 0.00112941, -0.00251503, -0.00231183, ...,  0.03306994,\n",
       "         0.10070846, -0.03287309],\n",
       "       ...,\n",
       "       [ 0.00063638,  0.00251691,  0.00024351, ..., -0.03274027,\n",
       "         0.02149068, -0.03616029],\n",
       "       [ 0.00185151, -0.00121611, -0.00234958, ...,  0.0366169 ,\n",
       "         0.09877244, -0.03294105],\n",
       "       [-0.00120563, -0.00367927,  0.00049745, ...,  0.03395088,\n",
       "         0.10131545, -0.03445634]])"
      ]
     },
     "execution_count": 17,
     "metadata": {},
     "output_type": "execute_result"
    }
   ],
   "source": [
    "# Ordenando os autovetores de forma decrescentes\n",
    "Q_dec = Q[index]\n",
    "Q_dec[:30]"
   ]
  },
  {
   "cell_type": "code",
   "execution_count": null,
   "id": "referenced-ensemble",
   "metadata": {},
   "outputs": [],
   "source": []
  }
 ],
 "metadata": {
  "kernelspec": {
   "display_name": "Python 3",
   "language": "python",
   "name": "python3"
  },
  "language_info": {
   "codemirror_mode": {
    "name": "ipython",
    "version": 3
   },
   "file_extension": ".py",
   "mimetype": "text/x-python",
   "name": "python",
   "nbconvert_exporter": "python",
   "pygments_lexer": "ipython3",
   "version": "3.8.8"
  }
 },
 "nbformat": 4,
 "nbformat_minor": 5
}
