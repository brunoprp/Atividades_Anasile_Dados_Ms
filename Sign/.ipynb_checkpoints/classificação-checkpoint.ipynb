{
 "cells": [
  {
   "cell_type": "markdown",
   "id": "confused-sally",
   "metadata": {},
   "source": [
    "#  Universidade Estadual do Cear - UECE \n",
    "## Programa de Pós-graduação em Ciência da Computação\n",
    "## Fundamentos de Análise de Dados - 2021-1"
   ]
  },
  {
   "cell_type": "markdown",
   "id": "naval-guarantee",
   "metadata": {},
   "source": [
    "# Classificação de imagens \n",
    "   ###  Domingos Bruno Sousa Santos\n",
    " * Apresentação parcial \n",
    " * Projeções Ortogonais\n",
    " \n",
    "### *Sign Language MNIST* - Reconhecimento de linguagem americana de sinais:\n",
    "* 27455 (79.3%) imagens de treinamento;\n",
    "* 7172 (20.7%) imagens de teste;\n",
    "* imagens com 28 × 28 pixels;\n",
    "* 24 letras (excluídos o J e o Z) (classes)."
   ]
  },
  {
   "cell_type": "markdown",
   "id": "laden-belfast",
   "metadata": {},
   "source": [
    "<img src=\"img_sing.png\" width=\"820\" height=\"505\">"
   ]
  },
  {
   "cell_type": "code",
   "execution_count": 15,
   "id": "committed-analyst",
   "metadata": {},
   "outputs": [],
   "source": [
    "# Importando as bibliotecas\n",
    "import numpy as np\n",
    "import pandas as pd\n",
    "import matplotlib.pyplot as plt\n",
    "from sklearn.model_selection import train_test_split"
   ]
  },
  {
   "cell_type": "code",
   "execution_count": 16,
   "id": "smoking-creek",
   "metadata": {},
   "outputs": [
    {
     "data": {
      "text/html": [
       "<div>\n",
       "<style scoped>\n",
       "    .dataframe tbody tr th:only-of-type {\n",
       "        vertical-align: middle;\n",
       "    }\n",
       "\n",
       "    .dataframe tbody tr th {\n",
       "        vertical-align: top;\n",
       "    }\n",
       "\n",
       "    .dataframe thead th {\n",
       "        text-align: right;\n",
       "    }\n",
       "</style>\n",
       "<table border=\"1\" class=\"dataframe\">\n",
       "  <thead>\n",
       "    <tr style=\"text-align: right;\">\n",
       "      <th></th>\n",
       "      <th>label</th>\n",
       "      <th>pixel1</th>\n",
       "      <th>pixel2</th>\n",
       "      <th>pixel3</th>\n",
       "      <th>pixel4</th>\n",
       "      <th>pixel5</th>\n",
       "      <th>pixel6</th>\n",
       "      <th>pixel7</th>\n",
       "      <th>pixel8</th>\n",
       "      <th>pixel9</th>\n",
       "      <th>...</th>\n",
       "      <th>pixel775</th>\n",
       "      <th>pixel776</th>\n",
       "      <th>pixel777</th>\n",
       "      <th>pixel778</th>\n",
       "      <th>pixel779</th>\n",
       "      <th>pixel780</th>\n",
       "      <th>pixel781</th>\n",
       "      <th>pixel782</th>\n",
       "      <th>pixel783</th>\n",
       "      <th>pixel784</th>\n",
       "    </tr>\n",
       "  </thead>\n",
       "  <tbody>\n",
       "    <tr>\n",
       "      <th>0</th>\n",
       "      <td>3</td>\n",
       "      <td>107</td>\n",
       "      <td>118</td>\n",
       "      <td>127</td>\n",
       "      <td>134</td>\n",
       "      <td>139</td>\n",
       "      <td>143</td>\n",
       "      <td>146</td>\n",
       "      <td>150</td>\n",
       "      <td>153</td>\n",
       "      <td>...</td>\n",
       "      <td>207</td>\n",
       "      <td>207</td>\n",
       "      <td>207</td>\n",
       "      <td>207</td>\n",
       "      <td>206</td>\n",
       "      <td>206</td>\n",
       "      <td>206</td>\n",
       "      <td>204</td>\n",
       "      <td>203</td>\n",
       "      <td>202</td>\n",
       "    </tr>\n",
       "    <tr>\n",
       "      <th>1</th>\n",
       "      <td>6</td>\n",
       "      <td>155</td>\n",
       "      <td>157</td>\n",
       "      <td>156</td>\n",
       "      <td>156</td>\n",
       "      <td>156</td>\n",
       "      <td>157</td>\n",
       "      <td>156</td>\n",
       "      <td>158</td>\n",
       "      <td>158</td>\n",
       "      <td>...</td>\n",
       "      <td>69</td>\n",
       "      <td>149</td>\n",
       "      <td>128</td>\n",
       "      <td>87</td>\n",
       "      <td>94</td>\n",
       "      <td>163</td>\n",
       "      <td>175</td>\n",
       "      <td>103</td>\n",
       "      <td>135</td>\n",
       "      <td>149</td>\n",
       "    </tr>\n",
       "    <tr>\n",
       "      <th>2</th>\n",
       "      <td>2</td>\n",
       "      <td>187</td>\n",
       "      <td>188</td>\n",
       "      <td>188</td>\n",
       "      <td>187</td>\n",
       "      <td>187</td>\n",
       "      <td>186</td>\n",
       "      <td>187</td>\n",
       "      <td>188</td>\n",
       "      <td>187</td>\n",
       "      <td>...</td>\n",
       "      <td>202</td>\n",
       "      <td>201</td>\n",
       "      <td>200</td>\n",
       "      <td>199</td>\n",
       "      <td>198</td>\n",
       "      <td>199</td>\n",
       "      <td>198</td>\n",
       "      <td>195</td>\n",
       "      <td>194</td>\n",
       "      <td>195</td>\n",
       "    </tr>\n",
       "    <tr>\n",
       "      <th>3</th>\n",
       "      <td>2</td>\n",
       "      <td>211</td>\n",
       "      <td>211</td>\n",
       "      <td>212</td>\n",
       "      <td>212</td>\n",
       "      <td>211</td>\n",
       "      <td>210</td>\n",
       "      <td>211</td>\n",
       "      <td>210</td>\n",
       "      <td>210</td>\n",
       "      <td>...</td>\n",
       "      <td>235</td>\n",
       "      <td>234</td>\n",
       "      <td>233</td>\n",
       "      <td>231</td>\n",
       "      <td>230</td>\n",
       "      <td>226</td>\n",
       "      <td>225</td>\n",
       "      <td>222</td>\n",
       "      <td>229</td>\n",
       "      <td>163</td>\n",
       "    </tr>\n",
       "    <tr>\n",
       "      <th>4</th>\n",
       "      <td>13</td>\n",
       "      <td>164</td>\n",
       "      <td>167</td>\n",
       "      <td>170</td>\n",
       "      <td>172</td>\n",
       "      <td>176</td>\n",
       "      <td>179</td>\n",
       "      <td>180</td>\n",
       "      <td>184</td>\n",
       "      <td>185</td>\n",
       "      <td>...</td>\n",
       "      <td>92</td>\n",
       "      <td>105</td>\n",
       "      <td>105</td>\n",
       "      <td>108</td>\n",
       "      <td>133</td>\n",
       "      <td>163</td>\n",
       "      <td>157</td>\n",
       "      <td>163</td>\n",
       "      <td>164</td>\n",
       "      <td>179</td>\n",
       "    </tr>\n",
       "  </tbody>\n",
       "</table>\n",
       "<p>5 rows × 785 columns</p>\n",
       "</div>"
      ],
      "text/plain": [
       "   label  pixel1  pixel2  pixel3  pixel4  pixel5  pixel6  pixel7  pixel8  \\\n",
       "0      3     107     118     127     134     139     143     146     150   \n",
       "1      6     155     157     156     156     156     157     156     158   \n",
       "2      2     187     188     188     187     187     186     187     188   \n",
       "3      2     211     211     212     212     211     210     211     210   \n",
       "4     13     164     167     170     172     176     179     180     184   \n",
       "\n",
       "   pixel9  ...  pixel775  pixel776  pixel777  pixel778  pixel779  pixel780  \\\n",
       "0     153  ...       207       207       207       207       206       206   \n",
       "1     158  ...        69       149       128        87        94       163   \n",
       "2     187  ...       202       201       200       199       198       199   \n",
       "3     210  ...       235       234       233       231       230       226   \n",
       "4     185  ...        92       105       105       108       133       163   \n",
       "\n",
       "   pixel781  pixel782  pixel783  pixel784  \n",
       "0       206       204       203       202  \n",
       "1       175       103       135       149  \n",
       "2       198       195       194       195  \n",
       "3       225       222       229       163  \n",
       "4       157       163       164       179  \n",
       "\n",
       "[5 rows x 785 columns]"
      ]
     },
     "execution_count": 16,
     "metadata": {},
     "output_type": "execute_result"
    }
   ],
   "source": [
    "# Leitura dos dados .CSV\n",
    "df_train = pd.read_csv(\"sign_mnist_train/sign_mnist_train.csv\")\n",
    "df_test = pd.read_csv(\"sign_mnist_test/sign_mnist_test.csv\")\n",
    "df_train.head()"
   ]
  },
  {
   "cell_type": "code",
   "execution_count": 17,
   "id": "junior-spanish",
   "metadata": {},
   "outputs": [
    {
     "data": {
      "image/png": "[encoded data removed]",
      "text/plain": [
       "<Figure size 1080x360 with 1 Axes>"
      ]
     },
     "metadata": {
      "needs_background": "light"
     },
     "output_type": "display_data"
    }
   ],
   "source": [
    "df_train['label'].value_counts().plot(kind='bar', figsize=(15,5))\n",
    "plt.xlabel(\"Classe\", size = 16,)\n",
    "plt.ylabel(\"Quantidade\", size = 16)\n",
    "plt.savefig(\"train.png\", bbox_inches='tight')"
   ]
  },
  {
   "cell_type": "code",
   "execution_count": 18,
   "id": "physical-assurance",
   "metadata": {},
   "outputs": [
    {
     "data": {
      "image/png": "[encoded data removed]",
      "text/plain": [
       "<Figure size 1080x360 with 1 Axes>"
      ]
     },
     "metadata": {
      "needs_background": "light"
     },
     "output_type": "display_data"
    }
   ],
   "source": [
    "df_test['label'].value_counts().plot(kind='bar', figsize=(15,5))\n",
    "plt.xlabel(\"Classe\", size = 16,)\n",
    "plt.ylabel(\"Quantidade\", size = 16)\n",
    "plt.savefig(\"test.png\", bbox_inches='tight')"
   ]
  },
  {
   "cell_type": "code",
   "execution_count": 19,
   "id": "oriented-second",
   "metadata": {},
   "outputs": [],
   "source": [
    "# Pegando as classes das imagens de treino e teste\n",
    "train_label = df_train[\"label\"].values\n",
    "test_label = df_test[\"label\"].values\n",
    "\n",
    "# Removendo a coluna das classes do data frame\n",
    "del df_train[\"label\"]\n",
    "del df_test[\"label\"]\n",
    "\n",
    "# Juntando os dados de teste de treinamneto\n",
    "# Normalizado os valores de pixels para ficar em uma escla entre 0 e 1\n",
    "X_data = np.concatenate((df_train.values/255, df_test.values/255), axis=0)\n",
    "Y_data = np.concatenate((train_label, test_label), axis=0)"
   ]
  },
  {
   "cell_type": "code",
   "execution_count": 20,
   "id": "corrected-receptor",
   "metadata": {},
   "outputs": [
    {
     "name": "stdout",
     "output_type": "stream",
     "text": [
      "(34627, 784)\n"
     ]
    },
    {
     "data": {
      "text/plain": [
       "array([ 0,  1,  2,  3,  4,  5,  6,  7,  8, 10, 11, 12, 13, 14, 15, 16, 17,\n",
       "       18, 19, 20, 21, 22, 23, 24])"
      ]
     },
     "execution_count": 20,
     "metadata": {},
     "output_type": "execute_result"
    }
   ],
   "source": [
    "# 28x28\n",
    "print(X_data.shape)\n",
    "np.unique(Y_data)"
   ]
  },
  {
   "cell_type": "code",
   "execution_count": 21,
   "id": "particular-jefferson",
   "metadata": {},
   "outputs": [
    {
     "data": {
      "image/png": "[encoded data removed]",
      "text/plain": [
       "<Figure size 2016x2016 with 15 Axes>"
      ]
     },
     "metadata": {},
     "output_type": "display_data"
    }
   ],
   "source": [
    "# Platar algumas imagens do dataset\n",
    "class_names = ['A', 'B', 'C', 'D', 'E', 'F', 'G', 'H', 'I', 'J', 'K', 'L', \n",
    "               'M', 'N', 'O', 'P', 'Q', 'R', 'S', 'T', 'U', 'V', 'W', 'X', 'Y' ]\n",
    "plt.figure(figsize=(28,28))\n",
    "for i in range(15):\n",
    "    plt.subplot(5,5,i+1)\n",
    "    plt.xticks([])\n",
    "    plt.yticks([])\n",
    "    plt.grid(True)\n",
    "    img = X_data[i].reshape(28, 28)\n",
    "    plt.imshow(img, cmap=plt.cm.binary)\n",
    "    label_index = int(Y_data[i])\n",
    "    plt.title(class_names[label_index], fontsize=20)\n",
    "plt.show()"
   ]
  },
  {
   "cell_type": "markdown",
   "id": "complex-design",
   "metadata": {},
   "source": [
    "# Tarefas"
   ]
  },
  {
   "cell_type": "markdown",
   "id": "variable-cartridge",
   "metadata": {},
   "source": [
    "## 1. Centralizar a matriz de dados original $\\tilde{X}$ obtendo a matriz $X$.\n",
    "Centralizar a matriz de dados original obtendo a matriz X.\n",
    "A centralização de dados caracteriza-se pela subtração dos dados amostrais de cada variável, da sua média amostral.\n",
    "\\begin{equation}\n",
    "X = \\tilde{X} - \\mu \n",
    "\\end{equation}"
   ]
  },
  {
   "cell_type": "code",
   "execution_count": 22,
   "id": "driving-conservation",
   "metadata": {},
   "outputs": [
    {
     "data": {
      "text/plain": [
       "array([[-0.15238069, -0.12118912, -0.09677578, ...,  0.16832496,\n",
       "         0.16779879,  0.16949337],\n",
       "       [ 0.0358546 ,  0.03175206,  0.01694971, ..., -0.22775348,\n",
       "        -0.09886788, -0.03834976],\n",
       "       [ 0.1613448 ,  0.15332068,  0.14243991, ...,  0.13303084,\n",
       "         0.13250467,  0.14204239],\n",
       "       ...,\n",
       "       [ 0.1731095 ,  0.16508539,  0.15028304, ...,  0.19577594,\n",
       "         0.1913282 ,  0.19302279],\n",
       "       [ 0.21624676,  0.21998735,  0.22087128, ..., -0.36892995,\n",
       "        -0.35376984, -0.37560467],\n",
       "       [ 0.10644284,  0.09841872,  0.08361638, ...,  0.13303084,\n",
       "         0.1285831 ,  0.13027769]])"
      ]
     },
     "execution_count": 22,
     "metadata": {},
     "output_type": "execute_result"
    }
   ],
   "source": [
    "# Centralizando a matriz de dados\n",
    "mean_x = np.mean(X_data, axis=0)\n",
    "X_central = X_data - mean_x\n",
    "X_central"
   ]
  },
  {
   "cell_type": "markdown",
   "id": "recorded-graphic",
   "metadata": {},
   "source": [
    "## 2. Dividir o banco de dados em conjunto de treinamento e conjunto de teste (proporções comumente utilizadas são 60%/40% e 70%/30%.)\n",
    "\n"
   ]
  },
  {
   "cell_type": "code",
   "execution_count": 23,
   "id": "numerical-demographic",
   "metadata": {},
   "outputs": [],
   "source": [
    "# Dividindo os dados com o X normal 70%/30%\n",
    "X_train, X_test, Y_train, Y_test = train_test_split (X_data, Y_data, \n",
    "                                                                     test_size=0.3, \n",
    "                                                                     random_state = 0)\n",
    "# Dividindo os dados com o X centralizado 70%/30%\n",
    "X_train_cent, X_test_cent, Y_train_cent, Y_test_cent = train_test_split (X_central, Y_data, \n",
    "                                                                     test_size=0.3, \n",
    "                                                                     random_state = 0)"
   ]
  },
  {
   "cell_type": "code",
   "execution_count": 24,
   "id": "sexual-restoration",
   "metadata": {},
   "outputs": [
    {
     "name": "stdout",
     "output_type": "stream",
     "text": [
      "(24238, 784)\n",
      "(10389, 784)\n"
     ]
    }
   ],
   "source": [
    "print(X_train.shape)\n",
    "print(X_test_cent.shape)"
   ]
  },
  {
   "cell_type": "code",
   "execution_count": 11,
   "id": "laughing-editor",
   "metadata": {},
   "outputs": [
    {
     "data": {
      "text/plain": [
       "array([0.8627451 , 0.87058824, 0.87843137, 0.87843137, 0.88235294,\n",
       "       0.88627451, 0.89019608, 0.89411765, 0.89411765, 0.89411765,\n",
       "       0.89019608, 0.89411765, 0.89803922, 0.89803922, 0.89411765,\n",
       "       0.89803922, 0.89803922, 0.89411765, 0.89411765, 0.89411765,\n",
       "       0.89019608, 0.89411765, 0.89019608, 0.88235294, 0.8745098 ,\n",
       "       0.87058824, 0.86666667, 0.8627451 , 0.86666667, 0.8745098 ])"
      ]
     },
     "execution_count": 11,
     "metadata": {},
     "output_type": "execute_result"
    }
   ],
   "source": [
    "X_train[0][:30]"
   ]
  },
  {
   "cell_type": "code",
   "execution_count": 12,
   "id": "outside-istanbul",
   "metadata": {},
   "outputs": [
    {
     "data": {
      "text/plain": [
       "array([0.29075656, 0.28665402, 0.28361638, 0.27456869, 0.2681702 ,\n",
       "       0.26312109, 0.25942286, 0.2564278 , 0.24982987, 0.24352208,\n",
       "       0.2349154 , 0.23463148, 0.2357854 , 0.23271651, 0.22603103,\n",
       "       0.2278716 , 0.22668789, 0.22226224, 0.22244956, 0.22360427,\n",
       "       0.22138216, 0.22749787, 0.22729798, 0.22400394, 0.22073606,\n",
       "       0.22553737, 0.22822404, 0.22622152, 0.28787193, 0.28356677])"
      ]
     },
     "execution_count": 12,
     "metadata": {},
     "output_type": "execute_result"
    }
   ],
   "source": [
    "X_train_cent[0][:30]"
   ]
  },
  {
   "cell_type": "markdown",
   "id": "electrical-musical",
   "metadata": {},
   "source": [
    "\n",
    "## 3. Calcular a matriz de covariância dos dados treinamento de duas maneiras:\n",
    "   \n",
    "* 1) Utilizado base de treinamento original $\\tilde{X}$ (não centralizada):\n",
    "\\begin{align} np.cov(\\tilde{X}) \\end{align}\n",
    "* 2) Utilizando base de treinamento centralizada $X$:\n",
    "\\begin{equation}\n",
    " \\frac{1}{m-1}X^TX\n",
    "\\end{equation}\n",
    "\n",
    "Comparar os resultados. Atenção: verique se o parâmetro $rowvar$ na\n",
    "função np.cov() deve ser $True$ ou $False$."
   ]
  },
  {
   "cell_type": "code",
   "execution_count": 26,
   "id": "distant-execution",
   "metadata": {},
   "outputs": [
    {
     "name": "stdout",
     "output_type": "stream",
     "text": [
      "(784, 784)\n"
     ]
    },
    {
     "data": {
      "text/plain": [
       "array([[0.02704871, 0.02557657, 0.02457706, ..., 0.00879484, 0.00761094,\n",
       "        0.0072442 ],\n",
       "       [0.02557657, 0.02504146, 0.0240026 , ..., 0.00864483, 0.00755489,\n",
       "        0.00712012],\n",
       "       [0.02457706, 0.0240026 , 0.02384798, ..., 0.00808037, 0.00702938,\n",
       "        0.00673356],\n",
       "       ...,\n",
       "       [0.00879484, 0.00864483, 0.00808037, ..., 0.06356987, 0.06164137,\n",
       "        0.05902013],\n",
       "       [0.00761094, 0.00755489, 0.00702938, ..., 0.06164137, 0.06459318,\n",
       "        0.06303164],\n",
       "       [0.0072442 , 0.00712012, 0.00673356, ..., 0.05902013, 0.06303164,\n",
       "        0.06628983]])"
      ]
     },
     "execution_count": 26,
     "metadata": {},
     "output_type": "execute_result"
    }
   ],
   "source": [
    "# Calculando a matriz de covariância com a primeira forma com X Não cetralizado\n",
    "cov_mat_X_normal = np.cov(X_train, rowvar=False)\n",
    "print(cov_mat_X_normal.shape)\n",
    "cov_mat_X_normal"
   ]
  },
  {
   "cell_type": "code",
   "execution_count": 27,
   "id": "forced-knock",
   "metadata": {},
   "outputs": [
    {
     "name": "stdout",
     "output_type": "stream",
     "text": [
      "(784, 784)\n"
     ]
    },
    {
     "data": {
      "text/plain": [
       "array([[0.02704894, 0.02557665, 0.02457718, ..., 0.00879526, 0.00761134,\n",
       "        0.0072448 ],\n",
       "       [0.02557665, 0.02504149, 0.02400264, ..., 0.00864498, 0.00755503,\n",
       "        0.00712033],\n",
       "       [0.02457718, 0.02400264, 0.02384804, ..., 0.00808059, 0.00702958,\n",
       "        0.00673387],\n",
       "       ...,\n",
       "       [0.00879526, 0.00864498, 0.00808059, ..., 0.06357065, 0.06164211,\n",
       "        0.05902124],\n",
       "       [0.00761134, 0.00755503, 0.00702958, ..., 0.06164211, 0.06459388,\n",
       "        0.06303269],\n",
       "       [0.0072448 , 0.00712033, 0.00673387, ..., 0.05902124, 0.06303269,\n",
       "        0.0662914 ]])"
      ]
     },
     "execution_count": 27,
     "metadata": {},
     "output_type": "execute_result"
    }
   ],
   "source": [
    "m = X_train_cent.shape[0] # Pegando o numero de linhas\n",
    "# Aplicando a formula do método da segunda forma\n",
    "cov_mat_X_cent = (1/(m-1)) * np.dot(X_train_cent.T, X_train_cent)\n",
    "print(cov_mat_X_cent.shape)\n",
    "cov_mat_X_cent "
   ]
  },
  {
   "cell_type": "code",
   "execution_count": 31,
   "id": "resident-gravity",
   "metadata": {},
   "outputs": [
    {
     "data": {
      "text/plain": [
       "3.909882707660295e-06"
      ]
     },
     "execution_count": 31,
     "metadata": {},
     "output_type": "execute_result"
    }
   ],
   "source": [
    "# Comprando a igualdade das matrizes\n",
    "max_mat = np.max(cov_mat_X_cent - cov_mat_X_normal) \n",
    "min_mat = np.min(cov_mat_X_cent - cov_mat_X_normal)\n",
    "max(abs(max_mat), abs(min_mat))\n",
    "# 3.909882707660295e-06 = 0.0002799097"
   ]
  },
  {
   "cell_type": "markdown",
   "id": "encouraging-swedish",
   "metadata": {},
   "source": [
    "## 4. Calcular a decomposição espectral da matriz de covariância dos dados de treinamento, isto é, $cov(X) = QΛQ^T$, usando a função do NumPy:\n",
    "\n",
    "\\begin{equation}\n",
    " cov(X) = QΛQ^T\n",
    "\\end{equation}\n",
    "\n",
    "\\begin{equation}\n",
    " w, Q =  np.linalg.eigh(cov(X))\n",
    "\\end{equation}\n",
    "\n",
    "* $w$ trata-se dos autovalores\n",
    "* $Q$ trata-se dos autovetores\n",
    "\n",
    "obtendo-se os autovalores w e seus autovetores associados nas colunas de Q.\n",
    "Atenção: os autovalores (e seus autovetores associados) devem ser ordenados em ordem decrescente."
   ]
  },
  {
   "cell_type": "code",
   "execution_count": 42,
   "id": "authentic-peeing",
   "metadata": {},
   "outputs": [
    {
     "name": "stdout",
     "output_type": "stream",
     "text": [
      "(784,)\n",
      "(784, 784)\n",
      "[2.26762905e-06 2.60800257e-06 2.67941803e-06 2.91124910e-06\n",
      " 3.27730955e-06 3.52856619e-06 3.79256902e-06 4.23316033e-06\n",
      " 4.57177599e-06 4.77775479e-06 4.94827804e-06 5.27611370e-06\n",
      " 5.52062025e-06 6.01556362e-06 6.63998353e-06 6.91661706e-06\n",
      " 7.27692151e-06 7.41515001e-06 7.75411000e-06 8.11249490e-06\n",
      " 8.96580177e-06 9.30239739e-06 9.72752650e-06 9.96136918e-06\n",
      " 1.02763521e-05 1.05660401e-05 1.12221079e-05 1.16033213e-05\n",
      " 1.18633261e-05 1.29081198e-05]\n"
     ]
    },
    {
     "data": {
      "text/plain": [
       "array([[-1.74662601e-01,  2.04804773e-01, -2.27620336e-02, ...,\n",
       "        -5.69028347e-02,  1.97453913e-03, -4.32044638e-02],\n",
       "       [ 3.20195782e-01,  9.22117074e-03,  1.44834095e-01, ...,\n",
       "        -5.34868140e-02,  8.34214086e-04, -4.27970684e-02],\n",
       "       [-2.13304970e-01, -1.50004617e-01,  1.05105149e-01, ...,\n",
       "        -5.19355120e-02, -1.47820811e-03, -4.28215949e-02],\n",
       "       ...,\n",
       "       [ 6.78827465e-04, -1.40936456e-04, -2.20604968e-03, ...,\n",
       "         2.01134618e-02, -1.42838549e-02, -1.86363450e-02],\n",
       "       [ 3.01351803e-01, -3.68300668e-01,  3.30424365e-02, ...,\n",
       "        -5.75666290e-02,  1.86253130e-03, -4.35284625e-02],\n",
       "       [-5.02723713e-01,  4.03352363e-02, -3.11224325e-01, ...,\n",
       "        -5.40421878e-02,  6.39648536e-04, -4.30531663e-02]])"
      ]
     },
     "execution_count": 42,
     "metadata": {},
     "output_type": "execute_result"
    }
   ],
   "source": [
    "# Calcular a decomposição espectral \n",
    "w, Q = np.linalg.eigh(cov_mat_X_cent)\n",
    "print(w.shape)\n",
    "print(Q.shape)\n",
    "print(w[:30])\n",
    "Q[:30]"
   ]
  },
  {
   "cell_type": "code",
   "execution_count": 35,
   "id": "outside-context",
   "metadata": {},
   "outputs": [
    {
     "data": {
      "text/plain": [
       "array([8.2597704 , 2.57198197, 2.02701259, 1.3746375 , 0.85862011,\n",
       "       0.82425566, 0.73144211, 0.60323111, 0.5805728 , 0.46649509,\n",
       "       0.42368698, 0.38196303, 0.33071951, 0.31462535, 0.25658531,\n",
       "       0.23349789, 0.19892987, 0.19286835, 0.17489357, 0.1618687 ,\n",
       "       0.15046564, 0.14110168, 0.12842561, 0.12275958, 0.12020107,\n",
       "       0.10978806, 0.10484883, 0.09675963, 0.09140576, 0.09088906])"
      ]
     },
     "execution_count": 35,
     "metadata": {},
     "output_type": "execute_result"
    }
   ],
   "source": [
    "# Ordenando os autovalores de forma decrescentes\n",
    "index = np.argsort(w)[::-1] #Obter índices para ordenação decrescente dos autovalores\n",
    "w_ord = w[index]\n",
    "w_ord[:30]"
   ]
  },
  {
   "cell_type": "code",
   "execution_count": 36,
   "id": "eligible-armor",
   "metadata": {},
   "outputs": [
    {
     "data": {
      "text/plain": [
       "array([[-0.00016559, -0.00222029, -0.00078143, ...,  0.0385044 ,\n",
       "         0.09539855, -0.03032871],\n",
       "       [-0.0015359 ,  0.00445228,  0.00325329, ...,  0.03659848,\n",
       "         0.09762979, -0.03131344],\n",
       "       [ 0.00112941, -0.00251503, -0.00231183, ...,  0.03306994,\n",
       "         0.10070846, -0.03287309],\n",
       "       ...,\n",
       "       [ 0.00063638,  0.00251691,  0.00024351, ..., -0.03274027,\n",
       "         0.02149068, -0.03616029],\n",
       "       [ 0.00185151, -0.00121611, -0.00234958, ...,  0.0366169 ,\n",
       "         0.09877244, -0.03294105],\n",
       "       [-0.00120563, -0.00367927,  0.00049745, ...,  0.03395088,\n",
       "         0.10131545, -0.03445634]])"
      ]
     },
     "execution_count": 36,
     "metadata": {},
     "output_type": "execute_result"
    }
   ],
   "source": [
    "# Ordenando os autovetores de forma decrescentes\n",
    "Q_ord = Q[index]\n",
    "Q_ord[:30]"
   ]
  },
  {
   "cell_type": "markdown",
   "id": "premium-intervention",
   "metadata": {},
   "source": [
    "# Questões"
   ]
  },
  {
   "cell_type": "markdown",
   "id": "pretty-wesley",
   "metadata": {},
   "source": [
    "### 1. Demonstrar que uma matriz $Q$ é ortogonal (isto é, quadrada com colunas ortonormais) se, e somente se, $Q^TQ = I$\n",
    "* **Solução**:  Por definição,  uma matriz $Q$ quadrada ($n x n$) é ortogonal se, e somente se, $Q^{-1}$ = $Q^T$. Com isso $Q$ é ortogonal e suas colunas são ortonormais, dessa forma as colunas de $Q^T$ também  são ortogonais. Seja $X$ a matriz formada pelo produto $Q^TQ$. Dessa forma, os elementos $(i, j)$ de $X$ são obtidos pelo produto interno da linha $q_i$ de $Q^T$ pela coluna $q_j$ de $Q$. Como $q_i$ e $q_j$ são ortonormais, tem-se que: \n",
    "\n",
    "   \\begin{equation}\n",
    "    (q_i, q_j) = \\left \\{\n",
    "    \\begin{array}{cc}\n",
    "    0  & i \\neq j\\\\\n",
    "    1  & i = j\\\\\n",
    "    \\end{array}\n",
    "    \\right.\n",
    "    \\end{equation}\n",
    "    \n",
    "    Com isso, a matriz $X$ é uma identidade, por exemplo:\n",
    "    \n",
    "    \\begin{equation}\n",
    "    Q^TQ = \\left [\n",
    "    \\begin{array}{cc}\n",
    "    1  & 0  \\ \\ 0  \\ \\ 0 \\\\\n",
    "    0  & 1 \\ \\ 0 \\ \\ 0 \\\\\n",
    "    0  & 0 \\ \\ 1 \\ \\ 0 \\\\\n",
    "    0  & 0 \\ \\ 0 \\ \\ 1 \\\\\n",
    "    \\end{array}\n",
    "    \\right ]\n",
    "    \\end{equation}"
   ]
  },
  {
   "cell_type": "markdown",
   "id": "favorite-richmond",
   "metadata": {},
   "source": [
    "### 2. Verificar, com o respectivo banco de dados, que $Q^TQ \\approx I$."
   ]
  },
  {
   "cell_type": "code",
   "execution_count": 37,
   "id": "several-combination",
   "metadata": {},
   "outputs": [
    {
     "data": {
      "text/plain": [
       "array([[ 1.00000000e+00, -1.66533454e-16, -2.77555756e-17, ...,\n",
       "         9.36750677e-17,  6.24500451e-17,  4.51028104e-17],\n",
       "       [-1.66533454e-16,  1.00000000e+00,  2.77555756e-17, ...,\n",
       "         5.32343267e-17, -5.46437895e-17,  7.97972799e-17],\n",
       "       [-2.77555756e-17,  2.77555756e-17,  1.00000000e+00, ...,\n",
       "        -8.71698547e-17, -1.73472348e-16, -4.42354486e-17],\n",
       "       ...,\n",
       "       [ 2.60208521e-17, -1.19695920e-16, -4.87890978e-18, ...,\n",
       "         8.67361738e-19, -9.49761103e-17,  1.24466409e-16],\n",
       "       [-3.33066907e-16, -2.77555756e-17,  2.77555756e-17, ...,\n",
       "        -9.54097912e-18,  1.82579646e-16,  8.34835673e-17],\n",
       "       [ 8.32667268e-17, -1.24900090e-16, -1.52655666e-16, ...,\n",
       "         2.15485182e-18, -5.08490819e-17,  3.91939085e-17]])"
      ]
     },
     "execution_count": 37,
     "metadata": {},
     "output_type": "execute_result"
    }
   ],
   "source": [
    "# Calculando Q trasposto com os autovetores ordenados\n",
    "Q = np.array(Q_ord)\n",
    "Q_T = Q.T\n",
    "# Fazendo o produdo de Q por Q transposto\n",
    "Q_I = np.dot(Q,Q_T)\n",
    "Q_I[:30]"
   ]
  },
  {
   "cell_type": "code",
   "execution_count": 38,
   "id": "blocked-tract",
   "metadata": {},
   "outputs": [
    {
     "data": {
      "text/plain": [
       "array([[1., 0., 0., ..., 0., 0., 0.],\n",
       "       [0., 1., 0., ..., 0., 0., 0.],\n",
       "       [0., 0., 1., ..., 0., 0., 0.],\n",
       "       ...,\n",
       "       [0., 0., 0., ..., 0., 0., 0.],\n",
       "       [0., 0., 0., ..., 0., 0., 0.],\n",
       "       [0., 0., 0., ..., 0., 0., 0.]])"
      ]
     },
     "execution_count": 38,
     "metadata": {},
     "output_type": "execute_result"
    }
   ],
   "source": [
    "# Fazendo a matriz identidade do resultado do produto anterior\n",
    "I = np.identity(Q_I.shape[0])\n",
    "I[:30]"
   ]
  },
  {
   "cell_type": "code",
   "execution_count": 39,
   "id": "listed-power",
   "metadata": {},
   "outputs": [
    {
     "data": {
      "text/plain": [
       "1.7763568394002505e-15"
      ]
     },
     "execution_count": 39,
     "metadata": {},
     "output_type": "execute_result"
    }
   ],
   "source": [
    "# Comparando as matrizes\n",
    "max_mat = np.max(I - Q_I) \n",
    "min_mat = np.min(I - Q_I)\n",
    "max(abs(max_mat), abs(min_mat))\n",
    "# 0.0001807368"
   ]
  },
  {
   "cell_type": "markdown",
   "id": "alleged-configuration",
   "metadata": {},
   "source": [
    "### 3. Consideremos $Z$ a matriz $m × n$ em cujas linhas estão as coordenadasdas amostras em relação à base de autovetores, isto é:\n",
    "\n",
    "\\begin{equation}\n",
    " X^T = QZ^T\n",
    "\\end{equation}\n",
    "\n",
    "e $\\tilde{Q}$ a matriz $n × r$, cujas colunas são a r primeiras colunas de $Q$.\n",
    "Mostrar que a matriz cujas linhas são as coordenadas das amostras em\n",
    "relação à **base de autovetores** do subespaço gerado pelos $r$ primeiros\n",
    "autovetores (associados aos $r$ maiores autovalores) é dada por:\n",
    "\n",
    "\\begin{equation}\n",
    " \\hat{Z} = X\\hat{Q}\n",
    "\\end{equation}\n",
    "\n",
    "\\begin{equation}\n",
    "   X^T = Q Z^T\\\\\n",
    "   Q^T X^T = Q^T Q Z^T\\\\\n",
    "   Q^T X^T = I Z^T\\\\\n",
    "   (Z^T)^T = (Q^T X^T)^T\\\\\n",
    "   Z = (X^T)^T(Q^T)^T\\\\\n",
    "   Z = X Q\\\\\n",
    "\\end{equation}"
   ]
  },
  {
   "cell_type": "code",
   "execution_count": null,
   "id": "wireless-filing",
   "metadata": {},
   "outputs": [],
   "source": []
  },
  {
   "cell_type": "markdown",
   "id": "changing-pixel",
   "metadata": {},
   "source": [
    "### 4.  Seguindo a Equação (9), a matriz dos dados projetados é definida por:\n",
    "\\begin{equation}\n",
    " \\hat{X}^T = X\\hat{Q}\\hat{Z}^T\n",
    "\\end{equation}\n",
    "Mostrar que os dados projetados são calculados pela equação:\n",
    "\\begin{equation}\n",
    " \\hat{X} = X\\hat{Q}\\hat{Q}^T\n",
    "\\end{equation}\n",
    "\n",
    "\\begin{equation}\n",
    "   \\hat{X}^T = \\hat{Q}\\hat{Z}^t\\\\\n",
    "   (\\hat{X}^T)^T = (\\hat{Q}\\hat{Z}^t)^T\\\\\n",
    "   \\hat{X} = \\hat{Z}\\hat{Q}^T\\\\\n",
    "   \\hat{X} = X\\hat{Q}\\hat{Q}^T\n",
    "\\end{equation}"
   ]
  },
  {
   "cell_type": "markdown",
   "id": "focused-relationship",
   "metadata": {},
   "source": [
    "### 5. Calcular, com o respectivo banco de dados, as matrizes $\\hat{Z}$  e $\\hat{X}$; verificar que a matriz de projeção\n",
    "\n",
    "\\begin{equation}\n",
    " \\hat{Q}\\hat{Q}^T\n",
    "\\end{equation}\n",
    "\n",
    "**não** é a matriz identidade."
   ]
  },
  {
   "cell_type": "code",
   "execution_count": 40,
   "id": "imposed-audit",
   "metadata": {},
   "outputs": [
    {
     "name": "stdout",
     "output_type": "stream",
     "text": [
      "(24238, 79)\n",
      "[[-0.00149822 -0.00790691  0.0030987  ...  0.02399829 -0.00099233\n",
      "   0.0468874 ]\n",
      " [ 0.00859807  0.03469328  0.01834375 ...  0.04320124  0.00557424\n",
      "  -0.01792802]\n",
      " [ 0.00023827  0.00488734 -0.00353642 ...  0.00792619 -0.05431858\n",
      "   0.04456208]\n",
      " ...\n",
      " [ 0.00783511  0.00966488 -0.00568774 ... -0.03534516  0.00626316\n",
      "  -0.00273236]\n",
      " [ 0.00014097 -0.02348542 -0.01349145 ... -0.01726496  0.04568968\n",
      "   0.00022089]\n",
      " [ 0.00049316  0.00029147  0.00277418 ...  0.00645069  0.01427614\n",
      "   0.01275803]]\n",
      "(24238, 784)\n",
      "[[ 3.44930012e-04 -1.81195798e-03  2.58563857e-03 ... -1.07664790e-02\n",
      "  -7.92771216e-03  7.98274228e-03]\n",
      " [-2.80783828e-03  8.63025624e-03 -1.02820757e-02 ... -2.62431022e-02\n",
      "  -1.19498417e-02 -7.01762983e-03]\n",
      " [ 2.32546397e-03 -6.78320087e-04  9.37748946e-04 ...  5.19598407e-03\n",
      "  -8.83209086e-03  8.30519193e-04]\n",
      " ...\n",
      " [-1.25157441e-04 -1.55147541e-03  3.19741929e-03 ... -1.11403084e-03\n",
      "   1.77970208e-02 -2.65296431e-03]\n",
      " [-5.40074599e-04  3.76339365e-06 -1.44447484e-03 ...  8.62456425e-03\n",
      "   1.34781096e-02  1.74068331e-02]\n",
      " [-4.65898362e-04  1.23449403e-03 -3.35519901e-03 ... -8.26542838e-03\n",
      "  -3.54637405e-03  5.67557658e-03]]\n"
     ]
    }
   ],
   "source": [
    "# Calculando Z^ com os 80 primeiros outovetores \n",
    "# Z^ = X^Q^\n",
    "\n",
    "Q_c = Q[:,0:79] # pegando as 80 primeiras colunas\n",
    "\n",
    "print(Z_c.shape)\n",
    "print(Z_c)\n",
    "\n",
    "# Calculando o X^ dados projetados\n",
    "#X^= XQ^Q^T\n",
    "X_c = np.dot(X_train_cent, Q_c)\n",
    "X_c = np.dot(X_c, Q_c.T)\n",
    "\n",
    "print(X_c.shape)\n",
    "print(X_c)"
   ]
  },
  {
   "cell_type": "code",
   "execution_count": 44,
   "id": "educated-right",
   "metadata": {},
   "outputs": [
    {
     "name": "stdout",
     "output_type": "stream",
     "text": [
      "(784, 784)\n",
      "[[ 0.00258015 -0.00271496  0.00170002 ... -0.00102284 -0.00406378\n",
      "   0.00069513]\n",
      " [-0.00271496  0.00548853 -0.0046731  ... -0.00201194  0.00353511\n",
      "  -0.00706639]\n",
      " [ 0.00170002 -0.0046731   0.00752588 ...  0.00432006 -0.00423809\n",
      "   0.00920497]\n",
      " ...\n",
      " [-0.00102284 -0.00201194  0.00432006 ...  0.66115171 -0.0807986\n",
      "  -0.03124017]\n",
      " [-0.00406378  0.00353511 -0.00423809 ... -0.0807986   0.60714332\n",
      "  -0.00687942]\n",
      " [ 0.00069513 -0.00706639  0.00920497 ... -0.03124017 -0.00687942\n",
      "   0.44637163]]\n"
     ]
    },
    {
     "data": {
      "text/plain": [
       "0.9987253675957461"
      ]
     },
     "execution_count": 44,
     "metadata": {},
     "output_type": "execute_result"
    }
   ],
   "source": [
    "#verificando se Q^QT não é matriz transposta de Q^\n",
    "result_QQ = np.dot(Q_c, Q_c.T)\n",
    "print(result_QQ.shape)\n",
    "print(result_QQ)\n",
    "# Comparando as matrizes\n",
    "#Criando a matriz indetide da projecao\n",
    "mat_I_proj = np.identity(result_QQ.shape[0])\n",
    "# Comprando a igualdade das matrizes\n",
    "max_mat = np.max(result_QQ -  mat_I_proj) \n",
    "min_mat = np.min(result_QQ - mat_I_proj)\n",
    "max(abs(max_mat), abs(min_mat))"
   ]
  },
  {
   "cell_type": "code",
   "execution_count": null,
   "id": "disciplinary-shirt",
   "metadata": {},
   "outputs": [],
   "source": []
  }
 ],
 "metadata": {
  "kernelspec": {
   "display_name": "Python 3",
   "language": "python",
   "name": "python3"
  },
  "language_info": {
   "codemirror_mode": {
    "name": "ipython",
    "version": 3
   },
   "file_extension": ".py",
   "mimetype": "text/x-python",
   "name": "python",
   "nbconvert_exporter": "python",
   "pygments_lexer": "ipython3",
   "version": "3.8.8"
  }
 },
 "nbformat": 4,
 "nbformat_minor": 5
}
