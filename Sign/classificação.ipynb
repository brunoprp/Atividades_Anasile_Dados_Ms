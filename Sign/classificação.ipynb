{
 "cells": [
  {
   "cell_type": "markdown",
   "id": "secret-tenant",
   "metadata": {},
   "source": [
    "#  Universidade Estadual do Cear - UECE \n",
    "## Programa de Pós-graduação em Ciência da Computação\n",
    "## Fundamentos de Análise de Dados - 2021-1"
   ]
  },
  {
   "cell_type": "markdown",
   "id": "controlling-crossing",
   "metadata": {},
   "source": [
    "# Classificação de imagens \n",
    "   ###  Domingos Bruno Sousa Santos\n",
    " * Apresentação parcial \n",
    " * Projeções Ortogonais\n",
    " \n",
    "### *Sign Language MNIST* - Reconhecimento de linguagem americana de sinais:\n",
    "* 27455 (79.3%) imagens de treinamento;\n",
    "* 7172 (20.7%) imagens de teste;\n",
    "* imagens com 28 × 28 pixels;\n",
    "* 24 letras (excluídos o J e o Z) (classes)."
   ]
  },
  {
   "cell_type": "markdown",
   "id": "liquid-price",
   "metadata": {},
   "source": [
    "<img src=\"img_sing.png\" width=\"820\" height=\"505\">"
   ]
  },
  {
   "cell_type": "code",
   "execution_count": 1,
   "id": "concrete-response",
   "metadata": {},
   "outputs": [],
   "source": [
    "# Importando as bibliotecas\n",
    "import numpy as np\n",
    "import pandas as pd\n",
    "import matplotlib.pyplot as plt\n",
    "from sklearn.model_selection import train_test_split\n",
    "from tqdm import tqdm\n",
    "from sklearn.neighbors import KNeighborsClassifier\n",
    "from sklearn.metrics import accuracy_score\n",
    "plt.style.use('seaborn')"
   ]
  },
  {
   "cell_type": "code",
   "execution_count": 2,
   "id": "earned-riverside",
   "metadata": {},
   "outputs": [
    {
     "data": {
      "text/html": [
       "<div>\n",
       "<style scoped>\n",
       "    .dataframe tbody tr th:only-of-type {\n",
       "        vertical-align: middle;\n",
       "    }\n",
       "\n",
       "    .dataframe tbody tr th {\n",
       "        vertical-align: top;\n",
       "    }\n",
       "\n",
       "    .dataframe thead th {\n",
       "        text-align: right;\n",
       "    }\n",
       "</style>\n",
       "<table border=\"1\" class=\"dataframe\">\n",
       "  <thead>\n",
       "    <tr style=\"text-align: right;\">\n",
       "      <th></th>\n",
       "      <th>label</th>\n",
       "      <th>pixel1</th>\n",
       "      <th>pixel2</th>\n",
       "      <th>pixel3</th>\n",
       "      <th>pixel4</th>\n",
       "      <th>pixel5</th>\n",
       "      <th>pixel6</th>\n",
       "      <th>pixel7</th>\n",
       "      <th>pixel8</th>\n",
       "      <th>pixel9</th>\n",
       "      <th>...</th>\n",
       "      <th>pixel775</th>\n",
       "      <th>pixel776</th>\n",
       "      <th>pixel777</th>\n",
       "      <th>pixel778</th>\n",
       "      <th>pixel779</th>\n",
       "      <th>pixel780</th>\n",
       "      <th>pixel781</th>\n",
       "      <th>pixel782</th>\n",
       "      <th>pixel783</th>\n",
       "      <th>pixel784</th>\n",
       "    </tr>\n",
       "  </thead>\n",
       "  <tbody>\n",
       "    <tr>\n",
       "      <th>0</th>\n",
       "      <td>3</td>\n",
       "      <td>107</td>\n",
       "      <td>118</td>\n",
       "      <td>127</td>\n",
       "      <td>134</td>\n",
       "      <td>139</td>\n",
       "      <td>143</td>\n",
       "      <td>146</td>\n",
       "      <td>150</td>\n",
       "      <td>153</td>\n",
       "      <td>...</td>\n",
       "      <td>207</td>\n",
       "      <td>207</td>\n",
       "      <td>207</td>\n",
       "      <td>207</td>\n",
       "      <td>206</td>\n",
       "      <td>206</td>\n",
       "      <td>206</td>\n",
       "      <td>204</td>\n",
       "      <td>203</td>\n",
       "      <td>202</td>\n",
       "    </tr>\n",
       "    <tr>\n",
       "      <th>1</th>\n",
       "      <td>6</td>\n",
       "      <td>155</td>\n",
       "      <td>157</td>\n",
       "      <td>156</td>\n",
       "      <td>156</td>\n",
       "      <td>156</td>\n",
       "      <td>157</td>\n",
       "      <td>156</td>\n",
       "      <td>158</td>\n",
       "      <td>158</td>\n",
       "      <td>...</td>\n",
       "      <td>69</td>\n",
       "      <td>149</td>\n",
       "      <td>128</td>\n",
       "      <td>87</td>\n",
       "      <td>94</td>\n",
       "      <td>163</td>\n",
       "      <td>175</td>\n",
       "      <td>103</td>\n",
       "      <td>135</td>\n",
       "      <td>149</td>\n",
       "    </tr>\n",
       "    <tr>\n",
       "      <th>2</th>\n",
       "      <td>2</td>\n",
       "      <td>187</td>\n",
       "      <td>188</td>\n",
       "      <td>188</td>\n",
       "      <td>187</td>\n",
       "      <td>187</td>\n",
       "      <td>186</td>\n",
       "      <td>187</td>\n",
       "      <td>188</td>\n",
       "      <td>187</td>\n",
       "      <td>...</td>\n",
       "      <td>202</td>\n",
       "      <td>201</td>\n",
       "      <td>200</td>\n",
       "      <td>199</td>\n",
       "      <td>198</td>\n",
       "      <td>199</td>\n",
       "      <td>198</td>\n",
       "      <td>195</td>\n",
       "      <td>194</td>\n",
       "      <td>195</td>\n",
       "    </tr>\n",
       "    <tr>\n",
       "      <th>3</th>\n",
       "      <td>2</td>\n",
       "      <td>211</td>\n",
       "      <td>211</td>\n",
       "      <td>212</td>\n",
       "      <td>212</td>\n",
       "      <td>211</td>\n",
       "      <td>210</td>\n",
       "      <td>211</td>\n",
       "      <td>210</td>\n",
       "      <td>210</td>\n",
       "      <td>...</td>\n",
       "      <td>235</td>\n",
       "      <td>234</td>\n",
       "      <td>233</td>\n",
       "      <td>231</td>\n",
       "      <td>230</td>\n",
       "      <td>226</td>\n",
       "      <td>225</td>\n",
       "      <td>222</td>\n",
       "      <td>229</td>\n",
       "      <td>163</td>\n",
       "    </tr>\n",
       "    <tr>\n",
       "      <th>4</th>\n",
       "      <td>13</td>\n",
       "      <td>164</td>\n",
       "      <td>167</td>\n",
       "      <td>170</td>\n",
       "      <td>172</td>\n",
       "      <td>176</td>\n",
       "      <td>179</td>\n",
       "      <td>180</td>\n",
       "      <td>184</td>\n",
       "      <td>185</td>\n",
       "      <td>...</td>\n",
       "      <td>92</td>\n",
       "      <td>105</td>\n",
       "      <td>105</td>\n",
       "      <td>108</td>\n",
       "      <td>133</td>\n",
       "      <td>163</td>\n",
       "      <td>157</td>\n",
       "      <td>163</td>\n",
       "      <td>164</td>\n",
       "      <td>179</td>\n",
       "    </tr>\n",
       "  </tbody>\n",
       "</table>\n",
       "<p>5 rows × 785 columns</p>\n",
       "</div>"
      ],
      "text/plain": [
       "   label  pixel1  pixel2  pixel3  pixel4  pixel5  pixel6  pixel7  pixel8  \\\n",
       "0      3     107     118     127     134     139     143     146     150   \n",
       "1      6     155     157     156     156     156     157     156     158   \n",
       "2      2     187     188     188     187     187     186     187     188   \n",
       "3      2     211     211     212     212     211     210     211     210   \n",
       "4     13     164     167     170     172     176     179     180     184   \n",
       "\n",
       "   pixel9  ...  pixel775  pixel776  pixel777  pixel778  pixel779  pixel780  \\\n",
       "0     153  ...       207       207       207       207       206       206   \n",
       "1     158  ...        69       149       128        87        94       163   \n",
       "2     187  ...       202       201       200       199       198       199   \n",
       "3     210  ...       235       234       233       231       230       226   \n",
       "4     185  ...        92       105       105       108       133       163   \n",
       "\n",
       "   pixel781  pixel782  pixel783  pixel784  \n",
       "0       206       204       203       202  \n",
       "1       175       103       135       149  \n",
       "2       198       195       194       195  \n",
       "3       225       222       229       163  \n",
       "4       157       163       164       179  \n",
       "\n",
       "[5 rows x 785 columns]"
      ]
     },
     "execution_count": 2,
     "metadata": {},
     "output_type": "execute_result"
    }
   ],
   "source": [
    "# Leitura dos dados .CSV\n",
    "df_train = pd.read_csv(\"sign_mnist_train/sign_mnist_train.csv\")\n",
    "df_test = pd.read_csv(\"sign_mnist_test/sign_mnist_test.csv\")\n",
    "df_train.head()"
   ]
  },
  {
   "cell_type": "code",
   "execution_count": 3,
   "id": "pleased-platinum",
   "metadata": {},
   "outputs": [
    {
     "data": {
      "image/png": "[encoded data removed]",
      "text/plain": [
       "<Figure size 1080x360 with 1 Axes>"
      ]
     },
     "metadata": {},
     "output_type": "display_data"
    }
   ],
   "source": [
    "df_train['label'].value_counts().plot(kind='bar', figsize=(15,5))\n",
    "plt.xlabel(\"Classe\", size = 16,)\n",
    "plt.ylabel(\"Quantidade\", size = 16)\n",
    "plt.savefig(\"train.png\", bbox_inches='tight')"
   ]
  },
  {
   "cell_type": "code",
   "execution_count": 4,
   "id": "confident-anger",
   "metadata": {},
   "outputs": [
    {
     "data": {
      "image/png": "[encoded data removed]",
      "text/plain": [
       "<Figure size 1080x360 with 1 Axes>"
      ]
     },
     "metadata": {},
     "output_type": "display_data"
    }
   ],
   "source": [
    "df_test['label'].value_counts().plot(kind='bar', figsize=(15,5))\n",
    "plt.xlabel(\"Classe\", size = 16,)\n",
    "plt.ylabel(\"Quantidade\", size = 16)\n",
    "plt.savefig(\"test.png\", bbox_inches='tight')"
   ]
  },
  {
   "cell_type": "code",
   "execution_count": 3,
   "id": "outside-hypothesis",
   "metadata": {},
   "outputs": [],
   "source": [
    "# Pegando as classes das imagens de treino e teste\n",
    "train_label = df_train[\"label\"].values\n",
    "test_label = df_test[\"label\"].values\n",
    "\n",
    "# Removendo a coluna das classes do data frame\n",
    "del df_train[\"label\"]\n",
    "del df_test[\"label\"]\n",
    "\n",
    "# Juntando os dados de teste de treinamneto\n",
    "# Normalizado os valores de pixels para ficar em uma escla entre 0 e 1\n",
    "X_data = np.concatenate((df_train.values/255, df_test.values/255), axis=0)\n",
    "Y_data = np.concatenate((train_label, test_label), axis=0)"
   ]
  },
  {
   "cell_type": "code",
   "execution_count": 102,
   "id": "british-evanescence",
   "metadata": {},
   "outputs": [
    {
     "name": "stdout",
     "output_type": "stream",
     "text": [
      "(34627, 784)\n"
     ]
    },
    {
     "data": {
      "text/plain": [
       "array([ 0,  1,  2,  3,  4,  5,  6,  7,  8, 10, 11, 12, 13, 14, 15, 16, 17,\n",
       "       18, 19, 20, 21, 22, 23, 24])"
      ]
     },
     "execution_count": 102,
     "metadata": {},
     "output_type": "execute_result"
    }
   ],
   "source": [
    "# 28x28\n",
    "print(X_data.shape)\n",
    "np.unique(Y_data)"
   ]
  },
  {
   "cell_type": "code",
   "execution_count": 7,
   "id": "advance-colony",
   "metadata": {},
   "outputs": [
    {
     "data": {
      "image/png": "[encoded data removed]",
      "text/plain": [
       "<Figure size 2016x2016 with 15 Axes>"
      ]
     },
     "metadata": {},
     "output_type": "display_data"
    }
   ],
   "source": [
    "# Platar algumas imagens do dataset\n",
    "class_names = ['A', 'B', 'C', 'D', 'E', 'F', 'G', 'H', 'I', 'J', 'K', 'L', \n",
    "               'M', 'N', 'O', 'P', 'Q', 'R', 'S', 'T', 'U', 'V', 'W', 'X', 'Y' ]\n",
    "plt.figure(figsize=(28,28))\n",
    "for i in range(15):\n",
    "    plt.subplot(5,5,i+1)\n",
    "    plt.xticks([])\n",
    "    plt.yticks([])\n",
    "    plt.grid(True)\n",
    "    img = X_data[i].reshape(28, 28)\n",
    "    plt.imshow(img, cmap=plt.cm.binary)\n",
    "    label_index = int(Y_data[i])\n",
    "    plt.title(class_names[label_index], fontsize=20)\n",
    "plt.show()"
   ]
  },
  {
   "cell_type": "markdown",
   "id": "patent-egyptian",
   "metadata": {},
   "source": [
    "# Tarefas"
   ]
  },
  {
   "cell_type": "markdown",
   "id": "tutorial-construction",
   "metadata": {},
   "source": [
    "## 1. Centralizar a matriz de dados original $\\tilde{X}$ obtendo a matriz $X$.\n",
    "Centralizar a matriz de dados original obtendo a matriz X.\n",
    "A centralização de dados caracteriza-se pela subtração dos dados amostrais de cada variável, da sua média amostral.\n",
    "\\begin{equation}\n",
    "X = \\tilde{X} - \\mu \n",
    "\\end{equation}"
   ]
  },
  {
   "cell_type": "code",
   "execution_count": 4,
   "id": "competitive-lighting",
   "metadata": {},
   "outputs": [
    {
     "name": "stdout",
     "output_type": "stream",
     "text": [
      "(34627, 784)\n",
      "(784,)\n",
      "(34627, 784)\n"
     ]
    }
   ],
   "source": [
    "# Centralizando a matriz de dados\n",
    "mean_x = np.mean(X_data, axis=0)\n",
    "X_central = X_data - mean_x\n",
    "print(X_central.shape)\n",
    "print(mean_x.shape)\n",
    "print(X_data.shape)"
   ]
  },
  {
   "cell_type": "markdown",
   "id": "minute-makeup",
   "metadata": {},
   "source": [
    "## 2. Dividir o banco de dados em conjunto de treinamento e conjunto de teste (proporções comumente utilizadas são 60%/40% e 70%/30%.)\n",
    "\n"
   ]
  },
  {
   "cell_type": "code",
   "execution_count": 5,
   "id": "desperate-bronze",
   "metadata": {},
   "outputs": [],
   "source": [
    "# Dividindo os dados com o X normal 70%/30%\n",
    "X_train, X_test, Y_train, Y_test = train_test_split (X_data, Y_data, \n",
    "                                                                     test_size=0.3, \n",
    "                                                                     random_state = 0)\n",
    "# Dividindo os dados com o X centralizado 70%/30%\n",
    "X_train_cent, X_test_cent, Y_train_cent, Y_test_cent = train_test_split (X_central, Y_data, \n",
    "                                                                     test_size=0.3, \n",
    "                                                                     random_state = 0)"
   ]
  },
  {
   "cell_type": "code",
   "execution_count": 10,
   "id": "peripheral-hawaiian",
   "metadata": {},
   "outputs": [
    {
     "name": "stdout",
     "output_type": "stream",
     "text": [
      "(24238, 784)\n",
      "(10389, 784)\n"
     ]
    }
   ],
   "source": [
    "print(X_train.shape)\n",
    "print(X_test_cent.shape)"
   ]
  },
  {
   "cell_type": "code",
   "execution_count": 11,
   "id": "suffering-illustration",
   "metadata": {},
   "outputs": [
    {
     "data": {
      "text/plain": [
       "array([0.8627451 , 0.87058824, 0.87843137, 0.87843137, 0.88235294,\n",
       "       0.88627451, 0.89019608, 0.89411765, 0.89411765, 0.89411765,\n",
       "       0.89019608, 0.89411765, 0.89803922, 0.89803922, 0.89411765,\n",
       "       0.89803922, 0.89803922, 0.89411765, 0.89411765, 0.89411765,\n",
       "       0.89019608, 0.89411765, 0.89019608, 0.88235294, 0.8745098 ,\n",
       "       0.87058824, 0.86666667, 0.8627451 , 0.86666667, 0.8745098 ])"
      ]
     },
     "execution_count": 11,
     "metadata": {},
     "output_type": "execute_result"
    }
   ],
   "source": [
    "X_train[0][:30]"
   ]
  },
  {
   "cell_type": "code",
   "execution_count": 12,
   "id": "qualified-charlotte",
   "metadata": {},
   "outputs": [
    {
     "data": {
      "text/plain": [
       "array([0.29075656, 0.28665402, 0.28361638, 0.27456869, 0.2681702 ,\n",
       "       0.26312109, 0.25942286, 0.2564278 , 0.24982987, 0.24352208,\n",
       "       0.2349154 , 0.23463148, 0.2357854 , 0.23271651, 0.22603103,\n",
       "       0.2278716 , 0.22668789, 0.22226224, 0.22244956, 0.22360427,\n",
       "       0.22138216, 0.22749787, 0.22729798, 0.22400394, 0.22073606,\n",
       "       0.22553737, 0.22822404, 0.22622152, 0.28787193, 0.28356677])"
      ]
     },
     "execution_count": 12,
     "metadata": {},
     "output_type": "execute_result"
    }
   ],
   "source": [
    "X_train_cent[0][:30]"
   ]
  },
  {
   "cell_type": "markdown",
   "id": "brazilian-studio",
   "metadata": {},
   "source": [
    "\n",
    "## 3. Calcular a matriz de covariância dos dados treinamento de duas maneiras:\n",
    "   \n",
    "* 1) Utilizado base de treinamento original $\\tilde{X}$ (não centralizada):\n",
    "\\begin{align} np.cov(\\tilde{X}) \\end{align}\n",
    "* 2) Utilizando base de treinamento centralizada $X$:\n",
    "\\begin{equation}\n",
    " \\frac{1}{m-1}X^TX\n",
    "\\end{equation}\n",
    "\n",
    "Comparar os resultados. Atenção: verique se o parâmetro $rowvar$ na\n",
    "função np.cov() deve ser $True$ ou $False$."
   ]
  },
  {
   "cell_type": "code",
   "execution_count": 6,
   "id": "false-sphere",
   "metadata": {},
   "outputs": [
    {
     "name": "stdout",
     "output_type": "stream",
     "text": [
      "(784, 784)\n"
     ]
    },
    {
     "data": {
      "text/plain": [
       "array([[0.02704871, 0.02557657, 0.02457706, ..., 0.00879484, 0.00761094,\n",
       "        0.0072442 ],\n",
       "       [0.02557657, 0.02504146, 0.0240026 , ..., 0.00864483, 0.00755489,\n",
       "        0.00712012],\n",
       "       [0.02457706, 0.0240026 , 0.02384798, ..., 0.00808037, 0.00702938,\n",
       "        0.00673356],\n",
       "       ...,\n",
       "       [0.00879484, 0.00864483, 0.00808037, ..., 0.06356987, 0.06164137,\n",
       "        0.05902013],\n",
       "       [0.00761094, 0.00755489, 0.00702938, ..., 0.06164137, 0.06459318,\n",
       "        0.06303164],\n",
       "       [0.0072442 , 0.00712012, 0.00673356, ..., 0.05902013, 0.06303164,\n",
       "        0.06628983]])"
      ]
     },
     "execution_count": 6,
     "metadata": {},
     "output_type": "execute_result"
    }
   ],
   "source": [
    "# Calculando a matriz de covariância com a primeira forma com X Não cetralizado\n",
    "cov_mat_X_normal = np.cov(X_train, rowvar=False)\n",
    "print(cov_mat_X_normal.shape)\n",
    "cov_mat_X_normal"
   ]
  },
  {
   "cell_type": "code",
   "execution_count": 7,
   "id": "social-pregnancy",
   "metadata": {},
   "outputs": [
    {
     "name": "stdout",
     "output_type": "stream",
     "text": [
      "(784, 784)\n"
     ]
    },
    {
     "data": {
      "text/plain": [
       "array([[0.02704894, 0.02557665, 0.02457718, ..., 0.00879526, 0.00761134,\n",
       "        0.0072448 ],\n",
       "       [0.02557665, 0.02504149, 0.02400264, ..., 0.00864498, 0.00755503,\n",
       "        0.00712033],\n",
       "       [0.02457718, 0.02400264, 0.02384804, ..., 0.00808059, 0.00702958,\n",
       "        0.00673387],\n",
       "       ...,\n",
       "       [0.00879526, 0.00864498, 0.00808059, ..., 0.06357065, 0.06164211,\n",
       "        0.05902124],\n",
       "       [0.00761134, 0.00755503, 0.00702958, ..., 0.06164211, 0.06459388,\n",
       "        0.06303269],\n",
       "       [0.0072448 , 0.00712033, 0.00673387, ..., 0.05902124, 0.06303269,\n",
       "        0.0662914 ]])"
      ]
     },
     "execution_count": 7,
     "metadata": {},
     "output_type": "execute_result"
    }
   ],
   "source": [
    "m = X_train_cent.shape[0] # Pegando o numero de linhas\n",
    "# Aplicando a formula do método da segunda forma\n",
    "cov_mat_X_cent = (1/(m-1)) * np.dot(X_train_cent.T, X_train_cent)\n",
    "print(cov_mat_X_cent.shape)\n",
    "cov_mat_X_cent "
   ]
  },
  {
   "cell_type": "code",
   "execution_count": 15,
   "id": "detected-pressure",
   "metadata": {},
   "outputs": [
    {
     "data": {
      "text/plain": [
       "3.909882707660295e-06"
      ]
     },
     "execution_count": 15,
     "metadata": {},
     "output_type": "execute_result"
    }
   ],
   "source": [
    "# Comprando a igualdade das matrizes\n",
    "max_mat = np.max(cov_mat_X_cent - cov_mat_X_normal) \n",
    "min_mat = np.min(cov_mat_X_cent - cov_mat_X_normal)\n",
    "max(abs(max_mat), abs(min_mat))\n",
    "# 3.909882707660295e-06 = 0.0002799097"
   ]
  },
  {
   "cell_type": "markdown",
   "id": "historic-wholesale",
   "metadata": {},
   "source": [
    "## 4. Calcular a decomposição espectral da matriz de covariância dos dados de treinamento, isto é, $cov(X) = QΛQ^T$, usando a função do NumPy:\n",
    "\n",
    "\\begin{equation}\n",
    " cov(X) = QΛQ^T\n",
    "\\end{equation}\n",
    "\n",
    "\\begin{equation}\n",
    " w, Q =  np.linalg.eigh(cov(X))\n",
    "\\end{equation}\n",
    "\n",
    "* $w$ trata-se dos autovalores\n",
    "* $Q$ trata-se dos autovetores\n",
    "\n",
    "obtendo-se os autovalores w e seus autovetores associados nas colunas de Q.\n",
    "Atenção: os autovalores (e seus autovetores associados) devem ser ordenados em ordem decrescente."
   ]
  },
  {
   "cell_type": "code",
   "execution_count": 16,
   "id": "patent-victim",
   "metadata": {},
   "outputs": [
    {
     "name": "stdout",
     "output_type": "stream",
     "text": [
      "(784,)\n",
      "(784, 784)\n",
      "[2.26762905e-06 2.60800257e-06 2.67941803e-06 2.91124910e-06\n",
      " 3.27730955e-06 3.52856619e-06 3.79256902e-06 4.23316033e-06\n",
      " 4.57177599e-06 4.77775479e-06 4.94827804e-06 5.27611370e-06\n",
      " 5.52062025e-06 6.01556362e-06 6.63998353e-06 6.91661706e-06\n",
      " 7.27692151e-06 7.41515001e-06 7.75411000e-06 8.11249490e-06\n",
      " 8.96580177e-06 9.30239739e-06 9.72752650e-06 9.96136918e-06\n",
      " 1.02763521e-05 1.05660401e-05 1.12221079e-05 1.16033213e-05\n",
      " 1.18633261e-05 1.29081198e-05]\n"
     ]
    },
    {
     "data": {
      "text/plain": [
       "array([[-1.74662601e-01,  2.04804773e-01, -2.27620336e-02, ...,\n",
       "        -5.69028347e-02,  1.97453913e-03, -4.32044638e-02],\n",
       "       [ 3.20195782e-01,  9.22117074e-03,  1.44834095e-01, ...,\n",
       "        -5.34868140e-02,  8.34214086e-04, -4.27970684e-02],\n",
       "       [-2.13304970e-01, -1.50004617e-01,  1.05105149e-01, ...,\n",
       "        -5.19355120e-02, -1.47820811e-03, -4.28215949e-02],\n",
       "       ...,\n",
       "       [ 6.78827465e-04, -1.40936456e-04, -2.20604968e-03, ...,\n",
       "         2.01134618e-02, -1.42838549e-02, -1.86363450e-02],\n",
       "       [ 3.01351803e-01, -3.68300668e-01,  3.30424365e-02, ...,\n",
       "        -5.75666290e-02,  1.86253130e-03, -4.35284625e-02],\n",
       "       [-5.02723713e-01,  4.03352363e-02, -3.11224325e-01, ...,\n",
       "        -5.40421878e-02,  6.39648536e-04, -4.30531663e-02]])"
      ]
     },
     "execution_count": 16,
     "metadata": {},
     "output_type": "execute_result"
    }
   ],
   "source": [
    "# Calcular a decomposição espectral \n",
    "w, Q = np.linalg.eigh(cov_mat_X_cent)\n",
    "print(w.shape)\n",
    "print(Q.shape)\n",
    "print(w[:30])\n",
    "Q[:30]"
   ]
  },
  {
   "cell_type": "code",
   "execution_count": 17,
   "id": "temporal-perfume",
   "metadata": {},
   "outputs": [
    {
     "data": {
      "text/plain": [
       "array([8.2597704 , 2.57198197, 2.02701259, 1.3746375 , 0.85862011,\n",
       "       0.82425566, 0.73144211, 0.60323111, 0.5805728 , 0.46649509,\n",
       "       0.42368698, 0.38196303, 0.33071951, 0.31462535, 0.25658531,\n",
       "       0.23349789, 0.19892987, 0.19286835, 0.17489357, 0.1618687 ,\n",
       "       0.15046564, 0.14110168, 0.12842561, 0.12275958, 0.12020107,\n",
       "       0.10978806, 0.10484883, 0.09675963, 0.09140576, 0.09088906])"
      ]
     },
     "execution_count": 17,
     "metadata": {},
     "output_type": "execute_result"
    }
   ],
   "source": [
    "# Ordenando os autovalores de forma decrescentes\n",
    "index = np.argsort(w)[::-1] #Obter índices para ordenação decrescente dos autovalores\n",
    "w_ord = w[index]\n",
    "w_ord[:30]"
   ]
  },
  {
   "cell_type": "code",
   "execution_count": 19,
   "id": "noticed-mayor",
   "metadata": {},
   "outputs": [
    {
     "data": {
      "text/plain": [
       "array([[-0.00016559, -0.00222029, -0.00078143, ...,  0.0385044 ,\n",
       "         0.09539855, -0.03032871],\n",
       "       [-0.0015359 ,  0.00445228,  0.00325329, ...,  0.03659848,\n",
       "         0.09762979, -0.03131344],\n",
       "       [ 0.00112941, -0.00251503, -0.00231183, ...,  0.03306994,\n",
       "         0.10070846, -0.03287309],\n",
       "       ...,\n",
       "       [ 0.00063638,  0.00251691,  0.00024351, ..., -0.03274027,\n",
       "         0.02149068, -0.03616029],\n",
       "       [ 0.00185151, -0.00121611, -0.00234958, ...,  0.0366169 ,\n",
       "         0.09877244, -0.03294105],\n",
       "       [-0.00120563, -0.00367927,  0.00049745, ...,  0.03395088,\n",
       "         0.10131545, -0.03445634]])"
      ]
     },
     "execution_count": 19,
     "metadata": {},
     "output_type": "execute_result"
    }
   ],
   "source": [
    "# Ordenando os autovetores de forma decrescentes\n",
    "Q_ord = Q[index]\n",
    "Q_ord[:30]"
   ]
  },
  {
   "cell_type": "markdown",
   "id": "composed-upgrade",
   "metadata": {},
   "source": [
    "# Questões"
   ]
  },
  {
   "cell_type": "markdown",
   "id": "extraordinary-bryan",
   "metadata": {},
   "source": [
    "### 1. Demonstrar que uma matriz $Q$ é ortogonal (isto é, quadrada com colunas ortonormais) se, e somente se, $Q^TQ = I$\n",
    "* **Solução**:  Por definição,  uma matriz $Q$ quadrada ($n x n$) é ortogonal se, e somente se, $Q^{-1}$ = $Q^T$. Com isso $Q$ é ortogonal e suas colunas são ortonormais, dessa forma as colunas de $Q^T$ também  são ortogonais. Seja $X$ a matriz formada pelo produto $Q^TQ$. Dessa forma, os elementos $(i, j)$ de $X$ são obtidos pelo produto interno da linha $q_i$ de $Q^T$ pela coluna $q_j$ de $Q$. Como $q_i$ e $q_j$ são ortonormais, tem-se que: \n",
    "\n",
    "   \\begin{equation}\n",
    "    (q_i, q_j) = \\left \\{\n",
    "    \\begin{array}{cc}\n",
    "    0  & i \\neq j\\\\\n",
    "    1  & i = j\\\\\n",
    "    \\end{array}\n",
    "    \\right.\n",
    "    \\end{equation}\n",
    "    \n",
    "    Com isso, a matriz $X$ é uma identidade, por exemplo:\n",
    "    \n",
    "    \\begin{equation}\n",
    "    Q^TQ = \\left [\n",
    "    \\begin{array}{cc}\n",
    "    1  & 0  \\ \\ 0  \\ \\ 0 \\\\\n",
    "    0  & 1 \\ \\ 0 \\ \\ 0 \\\\\n",
    "    0  & 0 \\ \\ 1 \\ \\ 0 \\\\\n",
    "    0  & 0 \\ \\ 0 \\ \\ 1 \\\\\n",
    "    \\end{array}\n",
    "    \\right ]\n",
    "    \\end{equation}"
   ]
  },
  {
   "cell_type": "markdown",
   "id": "valid-shell",
   "metadata": {},
   "source": [
    "### 2. Verificar, com o respectivo banco de dados, que $Q^TQ \\approx I$."
   ]
  },
  {
   "cell_type": "code",
   "execution_count": 20,
   "id": "serious-announcement",
   "metadata": {},
   "outputs": [
    {
     "data": {
      "text/plain": [
       "array([[ 1.00000000e+00, -1.66533454e-16, -2.77555756e-17, ...,\n",
       "         9.36750677e-17,  6.24500451e-17,  4.51028104e-17],\n",
       "       [-1.66533454e-16,  1.00000000e+00,  2.77555756e-17, ...,\n",
       "         5.32343267e-17, -5.46437895e-17,  7.97972799e-17],\n",
       "       [-2.77555756e-17,  2.77555756e-17,  1.00000000e+00, ...,\n",
       "        -8.71698547e-17, -1.73472348e-16, -4.42354486e-17],\n",
       "       ...,\n",
       "       [ 2.60208521e-17, -1.19695920e-16, -4.87890978e-18, ...,\n",
       "         8.67361738e-19, -9.49761103e-17,  1.24466409e-16],\n",
       "       [-3.33066907e-16, -2.77555756e-17,  2.77555756e-17, ...,\n",
       "        -9.54097912e-18,  1.82579646e-16,  8.34835673e-17],\n",
       "       [ 8.32667268e-17, -1.24900090e-16, -1.52655666e-16, ...,\n",
       "         2.15485182e-18, -5.08490819e-17,  3.91939085e-17]])"
      ]
     },
     "execution_count": 20,
     "metadata": {},
     "output_type": "execute_result"
    }
   ],
   "source": [
    "# Calculando Q trasposto com os autovetores ordenados\n",
    "Q = np.array(Q_ord)\n",
    "Q_T = Q.T\n",
    "# Fazendo o produdo de Q por Q transposto\n",
    "Q_I = np.dot(Q,Q_T)\n",
    "Q_I[:30]"
   ]
  },
  {
   "cell_type": "code",
   "execution_count": 21,
   "id": "balanced-noise",
   "metadata": {},
   "outputs": [
    {
     "data": {
      "text/plain": [
       "array([[1., 0., 0., ..., 0., 0., 0.],\n",
       "       [0., 1., 0., ..., 0., 0., 0.],\n",
       "       [0., 0., 1., ..., 0., 0., 0.],\n",
       "       ...,\n",
       "       [0., 0., 0., ..., 0., 0., 0.],\n",
       "       [0., 0., 0., ..., 0., 0., 0.],\n",
       "       [0., 0., 0., ..., 0., 0., 0.]])"
      ]
     },
     "execution_count": 21,
     "metadata": {},
     "output_type": "execute_result"
    }
   ],
   "source": [
    "# Fazendo a matriz identidade do resultado do produto anterior\n",
    "I = np.identity(Q_I.shape[0])\n",
    "I[:30]"
   ]
  },
  {
   "cell_type": "code",
   "execution_count": 22,
   "id": "recognized-settle",
   "metadata": {},
   "outputs": [
    {
     "data": {
      "text/plain": [
       "1.7763568394002505e-15"
      ]
     },
     "execution_count": 22,
     "metadata": {},
     "output_type": "execute_result"
    }
   ],
   "source": [
    "# Comparando as matrizes\n",
    "max_mat = np.max(I - Q_I) \n",
    "min_mat = np.min(I - Q_I)\n",
    "max(abs(max_mat), abs(min_mat))\n",
    "# 0.0001807368"
   ]
  },
  {
   "cell_type": "markdown",
   "id": "completed-vertex",
   "metadata": {},
   "source": [
    "### 3. Consideremos $Z$ a matriz $m × n$ em cujas linhas estão as coordenadasdas amostras em relação à base de autovetores, isto é:\n",
    "\n",
    "\\begin{equation}\n",
    " X^T = QZ^T\n",
    "\\end{equation}\n",
    "\n",
    "e $\\tilde{Q}$ a matriz $n × r$, cujas colunas são a r primeiras colunas de $Q$.\n",
    "Mostrar que a matriz cujas linhas são as coordenadas das amostras em\n",
    "relação à **base de autovetores** do subespaço gerado pelos $r$ primeiros\n",
    "autovetores (associados aos $r$ maiores autovalores) é dada por:\n",
    "\n",
    "\\begin{equation}\n",
    " \\hat{Z} = X\\hat{Q}\n",
    "\\end{equation}\n",
    "\n",
    "\\begin{equation}\n",
    "   X^T = Q Z^T\\\\\n",
    "   Q^T X^T = Q^T Q Z^T\\\\\n",
    "   Q^T X^T = I Z^T\\\\\n",
    "   (Z^T)^T = (Q^T X^T)^T\\\\\n",
    "   Z = (X^T)^T(Q^T)^T\\\\\n",
    "   Z = X Q\\\\\n",
    "\\end{equation}"
   ]
  },
  {
   "cell_type": "code",
   "execution_count": null,
   "id": "collect-saudi",
   "metadata": {},
   "outputs": [],
   "source": []
  },
  {
   "cell_type": "markdown",
   "id": "juvenile-piano",
   "metadata": {},
   "source": [
    "### 4.  Seguindo a Equação (9), a matriz dos dados projetados é definida por:\n",
    "\\begin{equation}\n",
    " \\hat{X}^T = X\\hat{Q}\\hat{Z}^T\n",
    "\\end{equation}\n",
    "Mostrar que os dados projetados são calculados pela equação:\n",
    "\\begin{equation}\n",
    " \\hat{X} = X\\hat{Q}\\hat{Q}^T\n",
    "\\end{equation}\n",
    "\n",
    "\\begin{equation}\n",
    "   \\hat{X}^T = \\hat{Q}\\hat{Z}^t\\\\\n",
    "   (\\hat{X}^T)^T = (\\hat{Q}\\hat{Z}^t)^T\\\\\n",
    "   \\hat{X} = \\hat{Z}\\hat{Q}^T\\\\\n",
    "   \\hat{X} = X\\hat{Q}\\hat{Q}^T\n",
    "\\end{equation}"
   ]
  },
  {
   "cell_type": "markdown",
   "id": "conventional-guatemala",
   "metadata": {},
   "source": [
    "### 5. Calcular, com o respectivo banco de dados, as matrizes $\\hat{Z}$  e $\\hat{X}$; verificar que a matriz de projeção\n",
    "\n",
    "\\begin{equation}\n",
    " \\hat{Q}\\hat{Q}^T\n",
    "\\end{equation}\n",
    "\n",
    "**não** é a matriz identidade."
   ]
  },
  {
   "cell_type": "code",
   "execution_count": 26,
   "id": "verbal-national",
   "metadata": {},
   "outputs": [
    {
     "name": "stdout",
     "output_type": "stream",
     "text": [
      "(24238, 784)\n",
      "[[ 3.44930012e-04 -1.81195798e-03  2.58563857e-03 ... -1.07664790e-02\n",
      "  -7.92771216e-03  7.98274228e-03]\n",
      " [-2.80783828e-03  8.63025624e-03 -1.02820757e-02 ... -2.62431022e-02\n",
      "  -1.19498417e-02 -7.01762983e-03]\n",
      " [ 2.32546397e-03 -6.78320087e-04  9.37748946e-04 ...  5.19598407e-03\n",
      "  -8.83209086e-03  8.30519193e-04]\n",
      " ...\n",
      " [-1.25157441e-04 -1.55147541e-03  3.19741929e-03 ... -1.11403084e-03\n",
      "   1.77970208e-02 -2.65296431e-03]\n",
      " [-5.40074599e-04  3.76339365e-06 -1.44447484e-03 ...  8.62456425e-03\n",
      "   1.34781096e-02  1.74068331e-02]\n",
      " [-4.65898362e-04  1.23449403e-03 -3.35519901e-03 ... -8.26542838e-03\n",
      "  -3.54637405e-03  5.67557658e-03]]\n"
     ]
    }
   ],
   "source": [
    "# Calculando Z^ com os 80 primeiros outovetores \n",
    "# Z^ = X^Q^\n",
    "\n",
    "Q_c = Q[:,0:79] # pegando as 80 primeiras colunas\n",
    "\n",
    "#print(Q_c.shape)\n",
    "#print(Q_c)\n",
    "\n",
    "# Calculando o X^ dados projetados\n",
    "#X^= XQ^Q^T\n",
    "X_c = np.dot(X_train_cent, Q_c)\n",
    "X_c = np.dot(X_c, Q_c.T)\n",
    "\n",
    "print(X_c.shape)\n",
    "print(X_c)"
   ]
  },
  {
   "cell_type": "code",
   "execution_count": 44,
   "id": "healthy-jamaica",
   "metadata": {},
   "outputs": [
    {
     "name": "stdout",
     "output_type": "stream",
     "text": [
      "(784, 784)\n",
      "[[ 0.00258015 -0.00271496  0.00170002 ... -0.00102284 -0.00406378\n",
      "   0.00069513]\n",
      " [-0.00271496  0.00548853 -0.0046731  ... -0.00201194  0.00353511\n",
      "  -0.00706639]\n",
      " [ 0.00170002 -0.0046731   0.00752588 ...  0.00432006 -0.00423809\n",
      "   0.00920497]\n",
      " ...\n",
      " [-0.00102284 -0.00201194  0.00432006 ...  0.66115171 -0.0807986\n",
      "  -0.03124017]\n",
      " [-0.00406378  0.00353511 -0.00423809 ... -0.0807986   0.60714332\n",
      "  -0.00687942]\n",
      " [ 0.00069513 -0.00706639  0.00920497 ... -0.03124017 -0.00687942\n",
      "   0.44637163]]\n"
     ]
    },
    {
     "data": {
      "text/plain": [
       "0.9987253675957461"
      ]
     },
     "execution_count": 44,
     "metadata": {},
     "output_type": "execute_result"
    }
   ],
   "source": [
    "#verificando se Q^QT não é matriz transposta de Q^\n",
    "result_QQ = np.dot(Q_c, Q_c.T)\n",
    "print(result_QQ.shape)\n",
    "print(result_QQ)\n",
    "# Comparando as matrizes\n",
    "#Criando a matriz indetide da projecao\n",
    "mat_I_proj = np.identity(result_QQ.shape[0])\n",
    "# Comprando a igualdade das matrizes\n",
    "max_mat = np.max(result_QQ -  mat_I_proj) \n",
    "min_mat = np.min(result_QQ - mat_I_proj)\n",
    "max(abs(max_mat), abs(min_mat))"
   ]
  },
  {
   "cell_type": "markdown",
   "id": "d301997a-b7ba-4eb5-a3ab-79fd58ba474d",
   "metadata": {},
   "source": [
    "# Trabalho Final classificação com SVD\n",
    "A Decomposição de Valor Singular (SVD), como visto, encontra os autovetores e (a raiz quadrada dos) autovalores da matriz de covariância dos dados $X^T X$, sem calculá-la explicitamente. Assim, a redução de dimensionalidade para o problema de classicação pode ser realizada utilizando\n",
    "\n",
    "\\begin{equation}\n",
    " X = USV^T\n",
    "\\end{equation}"
   ]
  },
  {
   "cell_type": "markdown",
   "id": "c305ade7-b5bf-4167-bb8a-c847f71a907f",
   "metadata": {},
   "source": [
    "## Tarefas"
   ]
  },
  {
   "cell_type": "markdown",
   "id": "39209ac5-f0a7-48b5-860d-1b8d5bc30eaf",
   "metadata": {},
   "source": [
    "* 1) Dividir o banco de dados em conjunto de treinamento e conjunto deteste (proporções comumente utilizadas são 60%/40% e 70%/30%.)"
   ]
  },
  {
   "cell_type": "markdown",
   "id": "04f70f8e-2f0f-4060-a8a1-a6b1929b0a48",
   "metadata": {},
   "source": [
    "* 2) Calcular, para o respectivo banco de dados, a SVD da matriz de dados de treinamento centralizados $X$. Gerar um gráco de número de valores singulares versus variabilidade acumulada."
   ]
  },
  {
   "cell_type": "code",
   "execution_count": 8,
   "id": "b9171b6c-0ce2-4e47-be0a-94adabfd8984",
   "metadata": {},
   "outputs": [
    {
     "name": "stdout",
     "output_type": "stream",
     "text": [
      "U:  (24238, 784) \n",
      "S:  (784,) \n",
      "Vt:  (784, 784)\n"
     ]
    }
   ],
   "source": [
    "# Calculate SVD com os dados de treinamneto\n",
    "U, S, Vt = np.linalg.svd(X_train_cent, full_matrices=False)\n",
    "print('U: ', U.shape, \n",
    "      '\\nS: ', S.shape, \n",
    "      '\\nVt: ', Vt.shape)"
   ]
  },
  {
   "cell_type": "markdown",
   "id": "7aa38374-ac6b-4020-a544-28316935dee2",
   "metadata": {},
   "source": [
    "### Culando a Variabilida acumulada e um gráco de número de valores singulares versus variabilidade acumulada.\n",
    "\\begin{equation}\n",
    " E = \\frac{\\lambda_1 + \\lambda_2 + ... + \\lambda_r }{\\lambda_1 + \\lambda_2 + ... + \\lambda_n}\n",
    "\\end{equation}"
   ]
  },
  {
   "cell_type": "code",
   "execution_count": 9,
   "id": "45394089-e776-4654-ae04-30df0c885e3f",
   "metadata": {},
   "outputs": [],
   "source": [
    "# Caculando a Variabilida acumulada\n",
    "varia_acum = np.cumsum(S**2) / np.sum(S**2)\n"
   ]
  },
  {
   "cell_type": "code",
   "execution_count": 10,
   "id": "82fe6856-5ea4-40c7-9380-d03a78f3791e",
   "metadata": {},
   "outputs": [
    {
     "data": {
      "image/png": "[encoded data removed]",
      "text/plain": [
       "<Figure size 720x360 with 1 Axes>"
      ]
     },
     "metadata": {},
     "output_type": "display_data"
    }
   ],
   "source": [
    "# Gerando um gráco de número de valores singulares versus variabilidade acumulada.\n",
    "y_plot = varia_acum\n",
    "x_plot = np.array(range(len(S)))\n",
    "\n",
    "plt.figure(figsize=(10, 5))\n",
    "plt.plot(x_plot, y_plot)\n",
    "plt.title('Variabilidade Acumulada por Valores Singulares')\n",
    "plt.xlabel(\"Número de Valores Singulares\")\n",
    "plt.ylabel(\"Variabilidade Acumulda\")\n",
    "plt.savefig(\"vari_x_singulares.png\", bbox_inches='tight')\n",
    "plt.show()"
   ]
  },
  {
   "cell_type": "code",
   "execution_count": 11,
   "id": "bda9ce5b-b6b6-48d5-ae1d-8d25923dfaa7",
   "metadata": {},
   "outputs": [
    {
     "data": {
      "image/png": "[encoded data removed]",
      "text/plain": [
       "<Figure size 1080x1080 with 8 Axes>"
      ]
     },
     "metadata": {},
     "output_type": "display_data"
    }
   ],
   "source": [
    "# Platar algumas imagens do dataset\n",
    "class_names = ['A', 'B', 'C', 'D', 'E', 'F', 'G', 'H', 'I', 'J', 'K', 'L', \n",
    "               'M', 'N', 'O', 'P', 'Q', 'R', 'S', 'T', 'U', 'V', 'W', 'X', 'Y' ]\n",
    "plt.figure(figsize=(15,15))\n",
    "for i in range(8):\n",
    "    plt.subplot(4,4,i+1)\n",
    "    plt.xticks([])\n",
    "    plt.yticks([])\n",
    "    plt.grid(True)\n",
    "    img = np.reshape(Vt[i], (28, 28))\n",
    "    plt.imshow(img, cmap=plt.cm.binary)\n",
    "    label_index = int(Y_train_cent[i])\n",
    "    plt.title(class_names[label_index], fontsize=20)\n",
    "plt.show()"
   ]
  },
  {
   "cell_type": "markdown",
   "id": "0d246899-2934-4987-a48e-620ca51ba6e2",
   "metadata": {},
   "source": [
    "### 3) Selecionar valores apropriados de variabilidade acumulada para reduzir a dimensionalidade do problema de classicação, resolvendo-o para o respectivo banco de dados.\n",
    " * Realizando a redução de dimensionalidade"
   ]
  },
  {
   "cell_type": "code",
   "execution_count": 12,
   "id": "2135c407-4155-4359-9c24-df61a1f0e7b8",
   "metadata": {},
   "outputs": [
    {
     "name": "stdout",
     "output_type": "stream",
     "text": [
      "Variabilidade acumulada: 95.05%, até o 114-ésimo autovalor.\n"
     ]
    }
   ],
   "source": [
    "n_vari_acum = 0.95 # Variabilidade acumulada esperada\n",
    "r_melhores = [ n for n, i in enumerate(varia_acum) if i > n_vari_acum ][0]\n",
    "print( 'Variabilidade acumulada: {:.2f}%, até o {:d}-ésimo autovalor.'.format(100 * varia_acum[r_melhores], r_melhores))"
   ]
  },
  {
   "cell_type": "code",
   "execution_count": 13,
   "id": "6bd855a9-f409-4809-a552-7c31a8c32bdb",
   "metadata": {},
   "outputs": [
    {
     "data": {
      "text/plain": [
       "array([0.3126805 , 0.41004503, 0.48677928, 0.53881733, 0.57132111,\n",
       "       0.602524  , 0.63021335, 0.65304917, 0.67502724, 0.6926868 ,\n",
       "       0.70872582, 0.72318535, 0.73570501, 0.74761542, 0.75732867,\n",
       "       0.76616793, 0.77369858, 0.78099978, 0.78762052, 0.79374819,\n",
       "       0.79944419, 0.80478572, 0.80964738, 0.81429454, 0.81884485,\n",
       "       0.82300097, 0.82697011, 0.83063303, 0.83409327, 0.83753395,\n",
       "       0.84081578, 0.84397931, 0.84704968, 0.85005966, 0.85289903,\n",
       "       0.85561606, 0.85829465, 0.86093865, 0.86346162, 0.86590746,\n",
       "       0.86834145, 0.87064886, 0.87292202, 0.87510145, 0.87719565,\n",
       "       0.87921944, 0.88123087, 0.88319473, 0.88510604, 0.88695916,\n",
       "       0.88873355, 0.89045792, 0.89215636, 0.89381287, 0.89543275,\n",
       "       0.89699431, 0.89853597, 0.90003019, 0.9014886 , 0.90291553,\n",
       "       0.90432193, 0.90566909, 0.90699546, 0.90827915, 0.90953922,\n",
       "       0.91078286, 0.91200798, 0.91319186, 0.91436272, 0.91549832,\n",
       "       0.91661486, 0.91770566, 0.9187884 , 0.91985657, 0.92091114,\n",
       "       0.92192489, 0.92292784, 0.92392331, 0.9249073 , 0.92585649,\n",
       "       0.92677391, 0.92767771, 0.9285613 , 0.92944177, 0.93030992,\n",
       "       0.93116211, 0.9319936 , 0.93281622, 0.93361631, 0.93441436,\n",
       "       0.93518168, 0.93594528, 0.93669992, 0.93744309, 0.93817743,\n",
       "       0.93889847, 0.93959821, 0.94029535, 0.9409851 , 0.94165229,\n",
       "       0.94231159, 0.94295046, 0.9435843 , 0.94420481, 0.94481624,\n",
       "       0.94541296, 0.94600284, 0.94658334, 0.94715453, 0.94772491,\n",
       "       0.94828896, 0.94884975, 0.94939841, 0.94994305])"
      ]
     },
     "execution_count": 13,
     "metadata": {},
     "output_type": "execute_result"
    }
   ],
   "source": [
    "varia_acum[:r_melhores]"
   ]
  },
  {
   "cell_type": "code",
   "execution_count": 14,
   "id": "77f24ff6-5dc6-4d6e-b607-5f0a3806108f",
   "metadata": {},
   "outputs": [
    {
     "name": "stdout",
     "output_type": "stream",
     "text": [
      "Dimensões: \n",
      "X_train: (24238, 784) --> X_train_new:  (24238, 114)\n",
      "X_test:   (10389, 784) --> X_test_new:    (10389, 114)\n",
      "V:       (784, 784) --> V_hat: (784, 114)\n"
     ]
    }
   ],
   "source": [
    "# Redução de dimensionalidade com os r melhores autovalores (Componetes principais)\n",
    "V_new  = Vt[:r_melhores,:].T \n",
    "X_train_new = np.dot( X_train_cent, V_new)\n",
    "X_test_new  = np.dot( X_test_cent,  V_new )\n",
    "\n",
    "print( 'Dimensões: \\nX_train: {:} --> X_train_new:  {:}'\\\n",
    "      .format(X_train_cent.shape, X_train_new.shape) )\n",
    "print( 'X_test:   {:} --> X_test_new:    {:}'\\\n",
    "      .format(X_test_cent.shape, X_test_new.shape) )   \n",
    "print( 'V:       {:} --> V_hat: {:}'\\\n",
    "      .format(Vt.shape, V_new.shape) )"
   ]
  },
  {
   "cell_type": "markdown",
   "id": "c617f1af-23e3-41ff-86fc-76b39aabcf3f",
   "metadata": {},
   "source": [
    "### Classificação com K-NN\n",
    "* 4) Gerar um gráco de número de valores singulares versus acurácia. Isso deve ser feito de maneira apropriada, não devendo o gráco ser gerado em tempo superior a 24 horas."
   ]
  },
  {
   "cell_type": "code",
   "execution_count": 120,
   "id": "65278867-98ea-41fd-9be3-08c92048d46c",
   "metadata": {},
   "outputs": [
    {
     "name": "stderr",
     "output_type": "stream",
     "text": [
      "100%|██████████| 10389/10389 [57:44<00:00,  3.00it/s]"
     ]
    },
    {
     "name": "stdout",
     "output_type": "stream",
     "text": [
      "Número de erros: 9 (id# [3779, 6224, 6271, 6581, 6882, 8083, 8125, 8387, 9256]). \n",
      "Acurácia: 99.91%.\n"
     ]
    },
    {
     "name": "stderr",
     "output_type": "stream",
     "text": [
      "\n"
     ]
    }
   ],
   "source": [
    "# K-NN não otimizado\n",
    "error_count = 0\n",
    "error_ids = []\n",
    "for i in tqdm(range(X_test.shape[0])):\n",
    "    dist = []\n",
    "    for k in range(X_train.shape[0]):\n",
    "        dist = np.append(dist, np.linalg.norm(X_test_new[i,:] - X_train_new[k,:]))\n",
    "    index = np.argmin(dist)\n",
    "    if Y_train_cent[index]!= Y_test_cent[i]:\n",
    "        error_count += 1\n",
    "        error_ids.append(i+1)\n",
    "print( 'Número de erros: {:d} (id# {:}). \\nAcurácia: {:.2f}%.'.format(error_count, error_ids, \n",
    "                                                                      100 * (X_test.shape[0] - error_count) / X_test.shape[0]))"
   ]
  },
  {
   "cell_type": "code",
   "execution_count": 23,
   "id": "4fc59921-b60b-4e5b-bee2-928248fd3385",
   "metadata": {},
   "outputs": [
    {
     "name": "stdout",
     "output_type": "stream",
     "text": [
      "Variabilidade acumulada:  0.95\n",
      "Autovalores:  114\n",
      "K-NN K = 1\n",
      "Acuracia:  0.9991336991048224\n"
     ]
    }
   ],
   "source": [
    " # K-NN do sklearn\n",
    "knn = KNeighborsClassifier(n_neighbors=1) # K = 1\n",
    "knn.fit(X_train_new, Y_train_cent)\n",
    "predict = knn.predict(X_test_new)\n",
    "acc = accuracy_score(Y_test_cent, predict)\n",
    "\n",
    "print('Variabilidade acumulada: ',n_vari_acum)\n",
    "print('Autovalores: ', r_melhores)\n",
    "print(\"K-NN K = 1\")\n",
    "print(\"Acuracia: \", acc)"
   ]
  },
  {
   "cell_type": "code",
   "execution_count": 18,
   "id": "bfc1595e-bfe4-4e1a-a14f-8b822e316fe5",
   "metadata": {},
   "outputs": [],
   "source": [
    "def principalComponents(r_melhores, Vt):\n",
    "    V_new  = Vt[:r_melhores,:].T \n",
    "    X_train_new = np.dot( X_train_cent, V_new)\n",
    "    X_test_new  = np.dot( X_test_cent,  V_new )\n",
    "    \n",
    "    return X_train_new, X_test_new"
   ]
  },
  {
   "cell_type": "code",
   "execution_count": 15,
   "id": "17d51c10-93a5-43b5-b233-986c9d70ee20",
   "metadata": {},
   "outputs": [
    {
     "name": "stderr",
     "output_type": "stream",
     "text": [
      "100%|██████████| 783/783 [1:00:52<00:00,  4.66s/it]\n"
     ]
    }
   ],
   "source": [
    "list_acc = []\n",
    "\n",
    "for r in tqdm(range(1, X_test.shape[1])):\n",
    "    \n",
    "    X_train, X_test = principalComponents(r, Vt)\n",
    "    knn = KNeighborsClassifier(n_neighbors=1)\n",
    "    knn.fit(X_train, Y_train_cent)\n",
    "\n",
    "    predict = knn.predict(X_test)\n",
    "    list_acc.append(accuracy_score(Y_test_cent, predict))\n",
    "    "
   ]
  },
  {
   "cell_type": "code",
   "execution_count": 19,
   "id": "6582f3e4-09c6-44b6-9908-c2376e9b58a5",
   "metadata": {},
   "outputs": [],
   "source": [
    "#np.save('acc_knn.npy', list_acc)\n",
    "list_acc = np.load(\"acc_knn.npy\")"
   ]
  },
  {
   "cell_type": "code",
   "execution_count": 20,
   "id": "6272a6f6-4b85-49ae-a9aa-e9d6783a810b",
   "metadata": {},
   "outputs": [
    {
     "data": {
      "image/png": "[encoded data removed]",
      "text/plain": [
       "<Figure size 720x360 with 1 Axes>"
      ]
     },
     "metadata": {},
     "output_type": "display_data"
    }
   ],
   "source": [
    "plt.figure(figsize=(10, 5))\n",
    "plt.plot(list_acc)\n",
    "plt.title('Valores Singulares x Acurácia')\n",
    "plt.xlabel('Valores Singulares')\n",
    "plt.ylabel('Acurácia')\n",
    "plt.savefig(\"vari_x_acc_01.png\", bbox_inches='tight')\n",
    "plt.show()"
   ]
  },
  {
   "cell_type": "code",
   "execution_count": 21,
   "id": "3f6e4f76-ec31-482e-a294-f300bde61a49",
   "metadata": {},
   "outputs": [
    {
     "data": {
      "image/png": "[encoded data removed]",
      "text/plain": [
       "<Figure size 720x360 with 1 Axes>"
      ]
     },
     "metadata": {},
     "output_type": "display_data"
    }
   ],
   "source": [
    "plt.figure(figsize=(10, 5))\n",
    "plt.plot(list(range(10,60)), list_acc[10:60])\n",
    "plt.title('Valores Singulares x Acurácia')\n",
    "plt.xlabel('Valores Singulares')\n",
    "plt.ylabel('Acurácia')\n",
    "plt.savefig(\"vari_x_acc_02.png\", bbox_inches='tight')\n",
    "plt.show()"
   ]
  },
  {
   "cell_type": "markdown",
   "id": "a30e40d4-5f3a-4279-b1ed-0ae6ca72e43f",
   "metadata": {},
   "source": [
    "# Questões"
   ]
  },
  {
   "cell_type": "markdown",
   "id": "843c109b-0725-4eba-afaa-1ddb14164ac7",
   "metadata": {},
   "source": [
    "* 2) Vericar numericamente a proposição anterior, calculando, para o respectivo banco de dados, os autovalores de $X^T X$ e $XX^T$"
   ]
  },
  {
   "cell_type": "code",
   "execution_count": 76,
   "id": "6b83e3b9-e6d2-4788-abe0-f5652ac248d5",
   "metadata": {},
   "outputs": [],
   "source": [
    "# Obtendo a matriz XTX\n",
    "𝑋T𝑋 = np.dot(X_train_cent[:1000,:].T, X_train_cent[:1000,:])"
   ]
  },
  {
   "cell_type": "code",
   "execution_count": 77,
   "id": "78b9cb4b-f69a-410c-bdb4-a6f0f7876621",
   "metadata": {},
   "outputs": [
    {
     "name": "stdout",
     "output_type": "stream",
     "text": [
      "(784,)\n",
      "(784, 784)\n",
      "[8279.27911971 2532.5412462  2043.28749337 1391.56258906  914.06512277\n",
      "  821.77981627  732.43907506  575.95496869  573.51521805  481.30928489\n",
      "  441.03716364  376.39935972  338.91183715  320.34969001  261.6914348\n",
      "  232.381222    217.97633943  202.85531257  176.37828136  166.79934931\n",
      "  156.5869614   146.98866353  137.40318606  133.5345821   123.10998228\n",
      "  113.55234804  104.2845391   102.09178897   97.71430429   94.70305527\n",
      "   92.65516141   87.22045011   84.14554543   80.23232211   78.33738876\n",
      "   77.11272155   72.12360216   71.49742339   68.57621875   66.41606522\n",
      "   65.4100306    64.01844042   61.13916986   59.30561165   56.59590694\n",
      "   55.61979287   54.46799418   51.93522586   51.05068695   50.41680703]\n",
      "[[-0.04185707  0.00191797 -0.05254429 ... -0.04573683 -0.00611522\n",
      "   0.20155825]\n",
      " [-0.04210407  0.00176041 -0.04908005 ...  0.16955775 -0.08892301\n",
      "  -0.0070943 ]\n",
      " [-0.04243646 -0.0004945  -0.04923303 ...  0.02652132  0.03068191\n",
      "   0.0101891 ]\n",
      " ...\n",
      " [-0.02773736 -0.00886253  0.00414114 ...  0.00085373  0.0066963\n",
      "   0.0017352 ]\n",
      " [-0.02653642 -0.0091538   0.00506321 ...  0.0388632  -0.00441518\n",
      "  -0.00329417]\n",
      " [-0.02647494 -0.00946809  0.00621985 ... -0.03449014 -0.07692562\n",
      "   0.00870207]]\n"
     ]
    }
   ],
   "source": [
    "# Calculando a decomposição espectral autovalores(w) e autovetores(Q) de 𝑋𝑇X\n",
    "W_1, Q_1 = np.linalg.eigh(𝑋T𝑋)\n",
    "\n",
    "#Ordenando os autovalores e autovetores de forma decrescentes\n",
    "index = np.argsort(W_1)[::-1]\n",
    "W_1 = W_1[index]\n",
    "Q_1 = Q_1[:,index]\n",
    "\n",
    "print(W_1.shape)\n",
    "print(Q_1.shape)\n",
    "print(W_1[:50])\n",
    "print(Q_1[:50])"
   ]
  },
  {
   "cell_type": "code",
   "execution_count": 78,
   "id": "0dd1f8f7-e107-4904-884e-38e06c22aa98",
   "metadata": {},
   "outputs": [],
   "source": [
    "# Obtendo a matriz XXT\n",
    "𝑋𝑋T = np.dot(X_train_cent[:1000,:], X_train_cent[:1000,:].T)"
   ]
  },
  {
   "cell_type": "code",
   "execution_count": 79,
   "id": "9c4115eb-d75a-46a5-b594-7505f52c556e",
   "metadata": {},
   "outputs": [
    {
     "name": "stdout",
     "output_type": "stream",
     "text": [
      "(1000,)\n",
      "(1000, 1000)\n",
      "[8279.27911971 2532.5412462  2043.28749337 1391.56258906  914.06512277\n",
      "  821.77981627  732.43907506  575.95496869  573.51521805  481.30928489\n",
      "  441.03716364  376.39935972  338.91183715  320.34969001  261.6914348\n",
      "  232.381222    217.97633943  202.85531257  176.37828136  166.79934931\n",
      "  156.5869614   146.98866353  137.40318606  133.5345821   123.10998228\n",
      "  113.55234804  104.2845391   102.09178897   97.71430429   94.70305527\n",
      "   92.65516141   87.22045011   84.14554543   80.23232211   78.33738876\n",
      "   77.11272155   72.12360216   71.49742339   68.57621875   66.41606522\n",
      "   65.4100306    64.01844042   61.13916986   59.30561165   56.59590694\n",
      "   55.61979287   54.46799418   51.93522586   51.05068695   50.41680703]\n",
      "[[ 0.05723131  0.09300016 -0.01517916 ...  0.          0.\n",
      "   0.        ]\n",
      " [ 0.05697134  0.02068003 -0.03629045 ...  0.00081883 -0.03663881\n",
      "  -0.15310978]\n",
      " [-0.00403013 -0.01885921  0.01304654 ...  0.04754221  0.23319617\n",
      "  -0.13406291]\n",
      " ...\n",
      " [-0.01164885  0.0696586  -0.04321245 ...  0.00572125 -0.00223808\n",
      "   0.01288424]\n",
      " [-0.06459669  0.00953067  0.00954896 ...  0.01135328 -0.01645064\n",
      "  -0.01252437]\n",
      " [ 0.00190088  0.02051698 -0.0174102  ... -0.00699197 -0.02910262\n",
      "   0.00463555]]\n"
     ]
    }
   ],
   "source": [
    "# Calculando a decomposição espectral autovalores(w) e autovetores(Q) de XX𝑇\n",
    "W_2, Q_2 = np.linalg.eigh(𝑋𝑋T)\n",
    "\n",
    "#Ordenando os autovalores autovetores de forma decrescentes\n",
    "index = np.argsort(W_2)[::-1]\n",
    "W_2 = W_2[index]\n",
    "Q_2 = Q_2[:,index]\n",
    "\n",
    "print(W_2.shape)\n",
    "print(Q_2.shape)\n",
    "print(W_2[:50])\n",
    "print(Q_2[:50])"
   ]
  },
  {
   "cell_type": "code",
   "execution_count": 118,
   "id": "fa4fffd2-4c53-4b1d-876d-f090f648d27c",
   "metadata": {},
   "outputs": [],
   "source": [
    "def maxDiff(A,B):\n",
    "    mx = np.max(A-B)\n",
    "    mn = np.min(A-B)\n",
    "    return max(abs(mn), abs(mx))"
   ]
  },
  {
   "cell_type": "code",
   "execution_count": 81,
   "id": "42e13b67-0b50-4cf3-b3cb-e8a1c8f23361",
   "metadata": {},
   "outputs": [
    {
     "data": {
      "text/plain": [
       "7.275957614183426e-12"
      ]
     },
     "execution_count": 81,
     "metadata": {},
     "output_type": "execute_result"
    }
   ],
   "source": [
    "maxDiff(W_1[:700], W_2[:700])"
   ]
  },
  {
   "cell_type": "code",
   "execution_count": 99,
   "id": "ddc8febc-e42f-425b-8803-a55afbe7314b",
   "metadata": {},
   "outputs": [
    {
     "data": {
      "text/plain": [
       "7.275957614183426e-12"
      ]
     },
     "execution_count": 99,
     "metadata": {},
     "output_type": "execute_result"
    }
   ],
   "source": [
    "np.max(np.abs(W_1[:700]) - np.abs( W_2[:700]))"
   ]
  },
  {
   "cell_type": "markdown",
   "id": "4beebb64-6dc6-4b73-b402-059e8e3c88f6",
   "metadata": {},
   "source": [
    "## 4) Vericar a proposição anterior, comparando, para o respectivo banco de dados, a matriz de autovetores de $X^T X$ e a matriz de vetores singulares direitos, isto é, $V$ em $X = USV^T$. Atenção para com os sentidos dos vetores."
   ]
  },
  {
   "cell_type": "code",
   "execution_count": 228,
   "id": "c3e9c740-9b06-4197-b2ec-d6b7fc77bf64",
   "metadata": {},
   "outputs": [
    {
     "name": "stdout",
     "output_type": "stream",
     "text": [
      "(784,)\n",
      "(784, 784)\n"
     ]
    }
   ],
   "source": [
    "𝑋T𝑋 = np.dot(X_train_cent.T, X_train_cent)\n",
    "\n",
    "# Calculando a decomposição espectral autovalores(w) e autovetores(Q) de 𝑋𝑇X\n",
    "W, Q = np.linalg.eigh(𝑋T𝑋)\n",
    "\n",
    "#Ordenando os autovalores e autovetores de forma decrescentes\n",
    "index = np.argsort(W)[::-1]\n",
    "W = W[index]\n",
    "Q = Q[:,index]\n",
    "print(W.shape)\n",
    "print(Q.shape)"
   ]
  },
  {
   "cell_type": "code",
   "execution_count": 126,
   "id": "99efb6ec-8775-4fc8-a4de-e50d5ff35ba8",
   "metadata": {},
   "outputs": [
    {
     "name": "stdout",
     "output_type": "stream",
     "text": [
      "U:  (24238, 784) \n",
      "S:  (784,) \n",
      "Vt:  (784, 784)\n"
     ]
    }
   ],
   "source": [
    "# Calculate SVD com os dados de treinamneto\n",
    "U, S, Vt = np.linalg.svd(X_train_cent, full_matrices=False)\n",
    "print('U: ', U.shape, \n",
    "      '\\nS: ', S.shape, \n",
    "      '\\nVt: ', Vt.shape)"
   ]
  },
  {
   "cell_type": "code",
   "execution_count": 146,
   "id": "5fc1f415-3934-4ba4-b965-5f8a30e2f510",
   "metadata": {},
   "outputs": [
    {
     "data": {
      "text/plain": [
       "1.9071533241543648e-10"
      ]
     },
     "execution_count": 146,
     "metadata": {},
     "output_type": "execute_result"
    }
   ],
   "source": [
    "np.max(np.abs(Q[:,:1500]) - np.abs(Vt.T)[:,:1500])"
   ]
  },
  {
   "cell_type": "code",
   "execution_count": 132,
   "id": "12ea6045-1d96-49c1-9507-1b6066831a08",
   "metadata": {},
   "outputs": [
    {
     "data": {
      "text/plain": [
       "1.0054474254330308"
      ]
     },
     "execution_count": 132,
     "metadata": {},
     "output_type": "execute_result"
    }
   ],
   "source": [
    "maxDiff(Q[:,:1500], Vt.T[:,:1500])"
   ]
  },
  {
   "cell_type": "markdown",
   "id": "869bc5f6-1c7f-40c3-91c5-5dd9efdcc4f7",
   "metadata": {},
   "source": [
    "## 5) Comparar, para o respectivo banco de dados, a matriz $Q$ de autovetores de $XX^T$ e a matriz de vetores singulares esquerdos, isto é, $U$ em $X = USV T$. Justique por que as duas matrizes são diferentes, mas as submatrizes $U[:, 0 : t]$ e $Q[:, 0 : t]$ são iguais ($t$ é o índice do primeiro autovalor nulo)."
   ]
  },
  {
   "cell_type": "code",
   "execution_count": 229,
   "id": "f6ee334f-a977-4c3f-87b8-01dba6863e6e",
   "metadata": {},
   "outputs": [
    {
     "name": "stdout",
     "output_type": "stream",
     "text": [
      "(1000,)\n",
      "(1000, 1000)\n"
     ]
    }
   ],
   "source": [
    "# Obtendo a matriz XXT\n",
    "𝑋𝑋T = np.dot(X_train_cent[:1000,:], X_train_cent[:1000,:].T)\n",
    "\n",
    "# Calculando a decomposição espectral autovalores(w) e autovetores(Q) de 𝑋𝑇X\n",
    "W, Q = np.linalg.eigh(𝑋𝑋T)\n",
    "\n",
    "#Ordenando os autovalores e autovetores de forma decrescentes\n",
    "index = np.argsort(W)[::-1]\n",
    "W = W[index]\n",
    "Q = Q[:,index]\n",
    "\n",
    "print(W.shape)\n",
    "print(Q.shape)"
   ]
  },
  {
   "cell_type": "code",
   "execution_count": 230,
   "id": "aeef1c98-1741-4737-a5db-d1b15074b610",
   "metadata": {},
   "outputs": [
    {
     "name": "stdout",
     "output_type": "stream",
     "text": [
      "U:  (1000, 784) \n",
      "S:  (784,) \n",
      "Vt:  (784, 784)\n"
     ]
    }
   ],
   "source": [
    "# Calculate SVD com os dados de treinamneto\n",
    "U, S, Vt = np.linalg.svd(X_train_cent[:1000,:], full_matrices=False)\n",
    "print('U: ', U.shape, \n",
    "      '\\nS: ', S.shape, \n",
    "      '\\nVt: ', Vt.shape)"
   ]
  },
  {
   "cell_type": "code",
   "execution_count": 233,
   "id": "0e4e6b35-a910-4c76-a564-a5033dce44a1",
   "metadata": {},
   "outputs": [],
   "source": [
    "t = 780"
   ]
  },
  {
   "cell_type": "code",
   "execution_count": 234,
   "id": "b8a77182-7b33-408c-8585-7297b34a0903",
   "metadata": {},
   "outputs": [
    {
     "data": {
      "text/plain": [
       "1.7005141739190321e-10"
      ]
     },
     "execution_count": 234,
     "metadata": {},
     "output_type": "execute_result"
    }
   ],
   "source": [
    "#U = U[:1000,:]\n",
    "np.max(np.abs(Q[:,0:t]) - np.abs(U[:,0:t]))"
   ]
  },
  {
   "cell_type": "code",
   "execution_count": 235,
   "id": "f78ac800-1df8-48d3-b2e6-de4a7ef7fd3e",
   "metadata": {},
   "outputs": [
    {
     "data": {
      "text/plain": [
       "2.1090236501652981e-10"
      ]
     },
     "execution_count": 235,
     "metadata": {},
     "output_type": "execute_result"
    }
   ],
   "source": [
    "maxDiff(abs(Q[:,0:t]), abs(U[:,0:t]))"
   ]
  },
  {
   "cell_type": "code",
   "execution_count": 220,
   "id": "7370d760-5211-4788-952b-3e21e1a75e4e",
   "metadata": {},
   "outputs": [
    {
     "data": {
      "text/plain": [
       "array([ 8.27927912e+03,  2.53254125e+03,  2.04328749e+03,  1.39156259e+03,\n",
       "        9.14065123e+02,  8.21779816e+02,  7.32439075e+02,  5.75954969e+02,\n",
       "        5.73515218e+02,  4.81309285e+02,  4.41037164e+02,  3.76399360e+02,\n",
       "        3.38911837e+02,  3.20349690e+02,  2.61691435e+02,  2.32381222e+02,\n",
       "        2.17976339e+02,  2.02855313e+02,  1.76378281e+02,  1.66799349e+02,\n",
       "        1.56586961e+02,  1.46988664e+02,  1.37403186e+02,  1.33534582e+02,\n",
       "        1.23109982e+02,  1.13552348e+02,  1.04284539e+02,  1.02091789e+02,\n",
       "        9.77143043e+01,  9.47030553e+01,  9.26551614e+01,  8.72204501e+01,\n",
       "        8.41455454e+01,  8.02323221e+01,  7.83373888e+01,  7.71127216e+01,\n",
       "        7.21236022e+01,  7.14974234e+01,  6.85762188e+01,  6.64160652e+01,\n",
       "        6.54100306e+01,  6.40184404e+01,  6.11391699e+01,  5.93056117e+01,\n",
       "        5.65959069e+01,  5.56197929e+01,  5.44679942e+01,  5.19352259e+01,\n",
       "        5.10506870e+01,  5.04168070e+01,  4.77178079e+01,  4.67319172e+01,\n",
       "        4.65734527e+01,  4.50155988e+01,  4.37935970e+01,  4.26038768e+01,\n",
       "        4.08075719e+01,  4.02031718e+01,  3.95594748e+01,  3.83090571e+01,\n",
       "        3.72312448e+01,  3.61220414e+01,  3.48381518e+01,  3.45736414e+01,\n",
       "        3.37263777e+01,  3.32737037e+01,  3.28635737e+01,  3.18702996e+01,\n",
       "        3.13292761e+01,  3.07479289e+01,  2.95338147e+01,  2.87174861e+01,\n",
       "        2.81959304e+01,  2.77693262e+01,  2.73359183e+01,  2.66161663e+01,\n",
       "        2.61458449e+01,  2.58016137e+01,  2.50393238e+01,  2.49052029e+01,\n",
       "        2.42808480e+01,  2.37713086e+01,  2.33494662e+01,  2.29712506e+01,\n",
       "        2.26830334e+01,  2.22335401e+01,  2.16729745e+01,  2.15348217e+01,\n",
       "        2.10155357e+01,  2.07115723e+01,  2.01234978e+01,  2.00094380e+01,\n",
       "        1.96050276e+01,  1.94328450e+01,  1.90085698e+01,  1.81432308e+01,\n",
       "        1.80941140e+01,  1.76178451e+01,  1.74692420e+01,  1.72485086e+01,\n",
       "        1.69888169e+01,  1.68368038e+01,  1.64361158e+01,  1.61195762e+01,\n",
       "        1.59084910e+01,  1.55719243e+01,  1.54916564e+01,  1.48777442e+01,\n",
       "        1.48378943e+01,  1.46775071e+01,  1.40561324e+01,  1.39917458e+01,\n",
       "        1.37747639e+01,  1.37307447e+01,  1.33776991e+01,  1.33103375e+01,\n",
       "        1.31071992e+01,  1.29433171e+01,  1.27560591e+01,  1.26286017e+01,\n",
       "        1.23564654e+01,  1.22239516e+01,  1.20143629e+01,  1.19559387e+01,\n",
       "        1.18461040e+01,  1.15995809e+01,  1.13526857e+01,  1.12966786e+01,\n",
       "        1.11557135e+01,  1.09779330e+01,  1.06536188e+01,  1.05226686e+01,\n",
       "        1.03747084e+01,  1.02480670e+01,  1.02182005e+01,  9.93609183e+00,\n",
       "        9.87504264e+00,  9.74460634e+00,  9.65099997e+00,  9.48239476e+00,\n",
       "        9.33659700e+00,  9.28003961e+00,  9.05498239e+00,  8.97679443e+00,\n",
       "        8.87094290e+00,  8.65344665e+00,  8.61627252e+00,  8.40237239e+00,\n",
       "        8.30649244e+00,  8.23444118e+00,  8.14229986e+00,  7.92087324e+00,\n",
       "        7.89741979e+00,  7.80287467e+00,  7.78520488e+00,  7.67393041e+00,\n",
       "        7.51666217e+00,  7.43136009e+00,  7.36471398e+00,  7.32711050e+00,\n",
       "        7.14367186e+00,  7.09998129e+00,  7.02188655e+00,  6.94031162e+00,\n",
       "        6.83133841e+00,  6.79514590e+00,  6.75011128e+00,  6.61677853e+00,\n",
       "        6.43410667e+00,  6.36292841e+00,  6.30486734e+00,  6.24899419e+00,\n",
       "        6.08112964e+00,  6.07670436e+00,  6.02487454e+00,  5.93772284e+00,\n",
       "        5.88390773e+00,  5.84091541e+00,  5.76395889e+00,  5.73264205e+00,\n",
       "        5.64457333e+00,  5.58975542e+00,  5.52663953e+00,  5.45853334e+00,\n",
       "        5.45257565e+00,  5.30378341e+00,  5.20383293e+00,  5.19115457e+00,\n",
       "        5.13915612e+00,  5.02857846e+00,  4.97649369e+00,  4.94893323e+00,\n",
       "        4.89905006e+00,  4.85465967e+00,  4.78837752e+00,  4.66744667e+00,\n",
       "        4.61975420e+00,  4.56241112e+00,  4.54088616e+00,  4.46842574e+00,\n",
       "        4.39200733e+00,  4.36190549e+00,  4.34059760e+00,  4.30044290e+00,\n",
       "        4.21106120e+00,  4.16884780e+00,  4.13868899e+00,  4.09096392e+00,\n",
       "        4.02071683e+00,  3.98722098e+00,  3.94082674e+00,  3.89522042e+00,\n",
       "        3.85911140e+00,  3.82868051e+00,  3.72721698e+00,  3.69543745e+00,\n",
       "        3.66874647e+00,  3.63943507e+00,  3.60460311e+00,  3.58352436e+00,\n",
       "        3.52204976e+00,  3.50078703e+00,  3.49055309e+00,  3.47172936e+00,\n",
       "        3.37115997e+00,  3.33959529e+00,  3.33383422e+00,  3.31125211e+00,\n",
       "        3.24182288e+00,  3.19537894e+00,  3.14607990e+00,  3.11407434e+00,\n",
       "        3.10914857e+00,  3.04740951e+00,  3.02258063e+00,  3.00414666e+00,\n",
       "        2.97772743e+00,  2.96864624e+00,  2.87988079e+00,  2.87189378e+00,\n",
       "        2.83044432e+00,  2.82079911e+00,  2.76148683e+00,  2.74531869e+00,\n",
       "        2.72872581e+00,  2.70075573e+00,  2.67047984e+00,  2.64991629e+00,\n",
       "        2.61135150e+00,  2.59375450e+00,  2.57677822e+00,  2.55805591e+00,\n",
       "        2.55183667e+00,  2.50303549e+00,  2.47481227e+00,  2.43660559e+00,\n",
       "        2.42423968e+00,  2.40581594e+00,  2.37005097e+00,  2.35531847e+00,\n",
       "        2.33023641e+00,  2.29333405e+00,  2.23886888e+00,  2.22417277e+00,\n",
       "        2.20308149e+00,  2.18723531e+00,  2.16054879e+00,  2.14821441e+00,\n",
       "        2.12359370e+00,  2.09114745e+00,  2.05815978e+00,  2.03091381e+00,\n",
       "        2.02928807e+00,  1.99819594e+00,  1.97630635e+00,  1.95918986e+00,\n",
       "        1.92703215e+00,  1.90730542e+00,  1.89963948e+00,  1.88416080e+00,\n",
       "        1.86164093e+00,  1.85017644e+00,  1.79811428e+00,  1.78533947e+00,\n",
       "        1.75284693e+00,  1.74417896e+00,  1.72292002e+00,  1.71262675e+00,\n",
       "        1.66936160e+00,  1.65363769e+00,  1.64604071e+00,  1.64115159e+00,\n",
       "        1.63094109e+00,  1.61893396e+00,  1.59102724e+00,  1.57050278e+00,\n",
       "        1.56082583e+00,  1.54956450e+00,  1.53060551e+00,  1.49677965e+00,\n",
       "        1.48782899e+00,  1.47501904e+00,  1.44640178e+00,  1.42453357e+00,\n",
       "        1.41031510e+00,  1.40758863e+00,  1.40247136e+00,  1.39137627e+00,\n",
       "        1.36837782e+00,  1.35113944e+00,  1.34186004e+00,  1.33095689e+00,\n",
       "        1.31606908e+00,  1.31224473e+00,  1.29302020e+00,  1.28720116e+00,\n",
       "        1.26034568e+00,  1.22772339e+00,  1.22024074e+00,  1.20447977e+00,\n",
       "        1.19227559e+00,  1.18697106e+00,  1.17272617e+00,  1.16878961e+00,\n",
       "        1.16057416e+00,  1.15183351e+00,  1.12583193e+00,  1.11412074e+00,\n",
       "        1.10997375e+00,  1.09263118e+00,  1.08118454e+00,  1.07182405e+00,\n",
       "        1.06417569e+00,  1.05270906e+00,  1.04083658e+00,  1.02609906e+00,\n",
       "        1.02353786e+00,  1.00867230e+00,  9.96224816e-01,  9.91773783e-01,\n",
       "        9.72446484e-01,  9.67871903e-01,  9.57355935e-01,  9.46497477e-01,\n",
       "        9.44042954e-01,  9.39794935e-01,  9.19688620e-01,  9.14164379e-01,\n",
       "        9.10909794e-01,  8.94183587e-01,  8.88551477e-01,  8.85587942e-01,\n",
       "        8.79929253e-01,  8.70309702e-01,  8.54250504e-01,  8.49291924e-01,\n",
       "        8.30973308e-01,  8.26478317e-01,  8.20310053e-01,  8.12763835e-01,\n",
       "        8.06516977e-01,  7.90396372e-01,  7.87381616e-01,  7.76292544e-01,\n",
       "        7.61215871e-01,  7.53239176e-01,  7.46174763e-01,  7.43234313e-01,\n",
       "        7.33745565e-01,  7.29891367e-01,  7.12813796e-01,  7.05543438e-01,\n",
       "        7.00060358e-01,  6.94719830e-01,  6.85463614e-01,  6.80236839e-01,\n",
       "        6.71002952e-01,  6.63433242e-01,  6.57343086e-01,  6.55591813e-01,\n",
       "        6.51053200e-01,  6.44202533e-01,  6.37074264e-01,  6.24162735e-01,\n",
       "        6.22691739e-01,  6.08956271e-01,  6.03011650e-01,  5.98759877e-01,\n",
       "        5.94666702e-01,  5.85467894e-01,  5.79693589e-01,  5.75736511e-01,\n",
       "        5.72957161e-01,  5.59348990e-01,  5.55391893e-01,  5.51711523e-01,\n",
       "        5.44712911e-01,  5.32951176e-01,  5.30108312e-01,  5.21542219e-01,\n",
       "        5.17328469e-01,  5.07115023e-01,  5.02079643e-01,  5.00532869e-01,\n",
       "        4.91365133e-01,  4.84209356e-01,  4.81582280e-01,  4.78654636e-01,\n",
       "        4.69772430e-01,  4.64724383e-01,  4.58861401e-01,  4.56769002e-01,\n",
       "        4.51534384e-01,  4.50457580e-01,  4.41600251e-01,  4.41055617e-01,\n",
       "        4.37075497e-01,  4.29616666e-01,  4.25690740e-01,  4.24392000e-01,\n",
       "        4.21477793e-01,  4.15241577e-01,  4.08791418e-01,  4.07691422e-01,\n",
       "        4.00979982e-01,  3.93512109e-01,  3.87596609e-01,  3.82188071e-01,\n",
       "        3.79542658e-01,  3.77719929e-01,  3.74221906e-01,  3.68353043e-01,\n",
       "        3.61826766e-01,  3.56449530e-01,  3.54993344e-01,  3.50707256e-01,\n",
       "        3.46210969e-01,  3.41332143e-01,  3.38525876e-01,  3.38133070e-01,\n",
       "        3.34591584e-01,  3.30812190e-01,  3.26360752e-01,  3.22316161e-01,\n",
       "        3.18505825e-01,  3.14517856e-01,  3.11933986e-01,  3.06622306e-01,\n",
       "        3.03938439e-01,  3.01685194e-01,  2.98707451e-01,  2.92811920e-01,\n",
       "        2.90167317e-01,  2.87092518e-01,  2.81414292e-01,  2.79525891e-01,\n",
       "        2.78337586e-01,  2.72982133e-01,  2.71157923e-01,  2.67790604e-01,\n",
       "        2.66141726e-01,  2.63970525e-01,  2.59620700e-01,  2.54850472e-01,\n",
       "        2.52221002e-01,  2.48195557e-01,  2.45221619e-01,  2.42448177e-01,\n",
       "        2.39563579e-01,  2.38043975e-01,  2.36867703e-01,  2.31304004e-01,\n",
       "        2.30609071e-01,  2.29107688e-01,  2.24190640e-01,  2.22761289e-01,\n",
       "        2.21027132e-01,  2.15009104e-01,  2.12712915e-01,  2.09482856e-01,\n",
       "        2.03736523e-01,  2.03210618e-01,  1.98256493e-01,  1.97697489e-01,\n",
       "        1.95704508e-01,  1.93233332e-01,  1.88176569e-01,  1.87132298e-01,\n",
       "        1.84642689e-01,  1.82781534e-01,  1.82172882e-01,  1.81629805e-01,\n",
       "        1.79101296e-01,  1.77894101e-01,  1.74128865e-01,  1.71132076e-01,\n",
       "        1.68553450e-01,  1.66067567e-01,  1.65521407e-01,  1.63774837e-01,\n",
       "        1.61053209e-01,  1.58137212e-01,  1.55667569e-01,  1.53889849e-01,\n",
       "        1.53266882e-01,  1.51881950e-01,  1.49216094e-01,  1.47663592e-01,\n",
       "        1.44361226e-01,  1.43367822e-01,  1.41823640e-01,  1.40594595e-01,\n",
       "        1.37748134e-01,  1.36794502e-01,  1.35450727e-01,  1.34408985e-01,\n",
       "        1.31908368e-01,  1.30545414e-01,  1.28165031e-01,  1.27356677e-01,\n",
       "        1.25105539e-01,  1.22416064e-01,  1.20873932e-01,  1.20449806e-01,\n",
       "        1.18848447e-01,  1.18073491e-01,  1.15508295e-01,  1.14924311e-01,\n",
       "        1.14190012e-01,  1.12592024e-01,  1.09766787e-01,  1.09191137e-01,\n",
       "        1.07227166e-01,  1.06244372e-01,  1.04520338e-01,  1.04172467e-01,\n",
       "        1.01758138e-01,  1.01083733e-01,  9.98662715e-02,  9.70282032e-02,\n",
       "        9.63374098e-02,  9.45713143e-02,  9.31320955e-02,  9.13682941e-02,\n",
       "        9.02216198e-02,  8.97419665e-02,  8.79913301e-02,  8.68420807e-02,\n",
       "        8.57894241e-02,  8.47502271e-02,  8.43097266e-02,  8.25422986e-02,\n",
       "        8.13516850e-02,  7.98765265e-02,  7.93886856e-02,  7.83377911e-02,\n",
       "        7.77996347e-02,  7.61197850e-02,  7.53319268e-02,  7.37382493e-02,\n",
       "        7.21211071e-02,  7.19536667e-02,  7.02586833e-02,  6.92690475e-02,\n",
       "        6.88472589e-02,  6.72296754e-02,  6.65294176e-02,  6.56271548e-02,\n",
       "        6.55186194e-02,  6.46639122e-02,  6.36603414e-02,  6.21836787e-02,\n",
       "        6.16829093e-02,  6.09777685e-02,  5.96211196e-02,  5.91493484e-02,\n",
       "        5.89006910e-02,  5.74732985e-02,  5.62843192e-02,  5.53126442e-02,\n",
       "        5.47135428e-02,  5.36158403e-02,  5.26090390e-02,  5.21678584e-02,\n",
       "        5.20124464e-02,  5.09569134e-02,  4.96830246e-02,  4.91587252e-02,\n",
       "        4.85014165e-02,  4.72426827e-02,  4.70571706e-02,  4.64054296e-02,\n",
       "        4.49504426e-02,  4.47199780e-02,  4.41420986e-02,  4.30435482e-02,\n",
       "        4.20529952e-02,  4.09098013e-02,  4.06580428e-02,  4.03927361e-02,\n",
       "        3.93564658e-02,  3.88166691e-02,  3.84619536e-02,  3.82964501e-02,\n",
       "        3.73028327e-02,  3.63293419e-02,  3.59568404e-02,  3.54157593e-02,\n",
       "        3.47317518e-02,  3.44095511e-02,  3.34876126e-02,  3.25311565e-02,\n",
       "        3.21267071e-02,  3.17699293e-02,  3.15840733e-02,  3.10486855e-02,\n",
       "        3.08225712e-02,  3.02855814e-02,  2.94655349e-02,  2.87881135e-02,\n",
       "        2.84839771e-02,  2.76259879e-02,  2.73419515e-02,  2.67137282e-02,\n",
       "        2.63861810e-02,  2.57174749e-02,  2.50921154e-02,  2.46068112e-02,\n",
       "        2.44546930e-02,  2.40817959e-02,  2.34574773e-02,  2.32831203e-02,\n",
       "        2.30662648e-02,  2.27593807e-02,  2.16635297e-02,  2.14686535e-02,\n",
       "        2.10927480e-02,  2.07636139e-02,  2.00876137e-02,  1.99574582e-02,\n",
       "        1.93662825e-02,  1.89818107e-02,  1.87869281e-02,  1.83669307e-02,\n",
       "        1.81475426e-02,  1.76409650e-02,  1.71744525e-02,  1.69284045e-02,\n",
       "        1.66810151e-02,  1.64547257e-02,  1.62809243e-02,  1.57018573e-02,\n",
       "        1.54320420e-02,  1.49278330e-02,  1.46136357e-02,  1.43915442e-02,\n",
       "        1.40929072e-02,  1.39122254e-02,  1.33127912e-02,  1.30029120e-02,\n",
       "        1.26754843e-02,  1.22911988e-02,  1.20867298e-02,  1.19975267e-02,\n",
       "        1.16853871e-02,  1.13548653e-02,  1.10641167e-02,  1.09761873e-02,\n",
       "        1.07155634e-02,  1.05344145e-02,  1.04902771e-02,  9.95776733e-03,\n",
       "        9.75485995e-03,  9.29976732e-03,  9.24793751e-03,  9.10342508e-03,\n",
       "        8.95165985e-03,  8.76828184e-03,  8.64907881e-03,  8.25655281e-03,\n",
       "        8.18923008e-03,  7.75416156e-03,  7.64638464e-03,  7.41289935e-03,\n",
       "        7.23570246e-03,  7.13370634e-03,  6.89333370e-03,  6.81828774e-03,\n",
       "        6.72018560e-03,  6.34670072e-03,  6.25815079e-03,  6.20759927e-03,\n",
       "        6.07382377e-03,  5.88009466e-03,  5.70898133e-03,  5.61991285e-03,\n",
       "        5.43496738e-03,  5.25985289e-03,  5.13022188e-03,  5.02682373e-03,\n",
       "        4.88532587e-03,  4.77128818e-03,  4.69517190e-03,  4.56598426e-03,\n",
       "        4.48836044e-03,  4.27400850e-03,  4.16450590e-03,  3.95750673e-03,\n",
       "        3.94434503e-03,  3.81748504e-03,  3.77884574e-03,  3.71885508e-03,\n",
       "        3.63023836e-03,  3.47649091e-03,  3.42853463e-03,  3.35937628e-03,\n",
       "        3.10083093e-03,  2.96751121e-03,  2.89574810e-03,  2.83792094e-03,\n",
       "        2.77090110e-03,  2.63245331e-03,  2.60866086e-03,  2.49045452e-03,\n",
       "        2.40079990e-03,  2.30584891e-03,  2.25852487e-03,  2.17220824e-03,\n",
       "        2.16588909e-03,  1.99258594e-03,  1.92307754e-03,  1.89816404e-03,\n",
       "        1.82287128e-03,  1.77927663e-03,  1.73175640e-03,  1.64398457e-03,\n",
       "        1.62333491e-03,  1.57765757e-03,  1.50089440e-03,  1.47069625e-03,\n",
       "        1.38774421e-03,  1.37002355e-03,  1.33649778e-03,  1.29699675e-03,\n",
       "        1.26544016e-03,  1.20117743e-03,  1.14891375e-03,  1.09340765e-03,\n",
       "        1.07864693e-03,  1.00733973e-03,  9.64293068e-04,  9.49448936e-04,\n",
       "        9.46935577e-04,  9.03870093e-04,  8.85233390e-04,  8.12657058e-04,\n",
       "        7.97971493e-04,  7.50032052e-04,  6.91370665e-04,  6.74588998e-04,\n",
       "        6.61941182e-04,  6.19849147e-04,  5.80676500e-04,  5.75082997e-04,\n",
       "        5.67629576e-04,  5.38759965e-04,  5.08596253e-04,  4.71314310e-04,\n",
       "        4.52914559e-04,  4.43774572e-04,  4.28023335e-04,  4.09829343e-04,\n",
       "        3.95959484e-04,  3.93338426e-04,  3.63724753e-04,  3.30445819e-04,\n",
       "        3.08088077e-04,  3.03433538e-04,  2.95230185e-04,  2.78624266e-04,\n",
       "        2.51506447e-04,  2.44868843e-04,  2.22953640e-04,  1.78098584e-04,\n",
       "        3.65565763e-13,  2.77010367e-13,  2.02935512e-13,  1.24596644e-13,\n",
       "        1.19724029e-13,  1.03942399e-13,  9.73450167e-14,  9.44225293e-14,\n",
       "        8.46235049e-14,  7.81489113e-14,  7.80526253e-14,  7.43492399e-14,\n",
       "        7.17393845e-14,  7.15100788e-14,  6.58973067e-14,  6.53253852e-14,\n",
       "        6.20777695e-14,  6.11894453e-14,  5.89577809e-14,  5.71464223e-14,\n",
       "        5.69290233e-14,  5.69186973e-14,  5.64182327e-14,  5.22857275e-14,\n",
       "        5.11335893e-14,  5.04429747e-14,  4.87146715e-14,  4.84578301e-14,\n",
       "        4.76477298e-14,  4.64837683e-14,  4.57535520e-14,  4.48368644e-14,\n",
       "        4.34830350e-14,  4.27785374e-14,  4.18363936e-14,  4.15970578e-14,\n",
       "        4.00067821e-14,  3.99990295e-14,  3.86505411e-14,  3.81484323e-14,\n",
       "        3.62748470e-14,  3.42823193e-14,  3.37248047e-14,  3.36643264e-14,\n",
       "        3.31153847e-14,  3.22785703e-14,  3.15059548e-14,  3.02135112e-14,\n",
       "        2.98067546e-14,  2.78009227e-14,  2.73172170e-14,  2.69780804e-14,\n",
       "        2.65598538e-14,  2.62661012e-14,  2.61391764e-14,  2.58355991e-14,\n",
       "        2.44680807e-14,  2.33192285e-14,  2.25448222e-14,  2.12431022e-14,\n",
       "        2.06638550e-14,  1.90980422e-14,  1.88571366e-14,  1.85418463e-14,\n",
       "        1.79335067e-14,  1.74328854e-14,  1.73047544e-14,  1.59875676e-14,\n",
       "        1.58285272e-14,  1.56434881e-14,  1.54003696e-14,  1.53581248e-14,\n",
       "        1.45526250e-14,  1.34693346e-14,  1.34013772e-14,  1.18484209e-14,\n",
       "        1.12045967e-14,  1.08458468e-14,  1.03388724e-14,  1.02734485e-14,\n",
       "        8.96966440e-15,  8.71882275e-15,  8.56238562e-15,  8.20678752e-15,\n",
       "        7.64841323e-15,  7.51656029e-15,  6.83485823e-15,  5.53221407e-15,\n",
       "        5.41469924e-15,  4.86040512e-15,  4.70923191e-15,  4.09645550e-15,\n",
       "        3.02551736e-15,  2.44363425e-15,  2.29016157e-15,  2.15168549e-15,\n",
       "        1.28964850e-15,  8.95599471e-16,  2.32529859e-16,  1.39961904e-16,\n",
       "        8.45891416e-17,  5.84463731e-17, -7.05598575e-16, -2.39291256e-15,\n",
       "       -2.67454959e-15, -2.99910607e-15, -3.28426770e-15, -3.34679427e-15,\n",
       "       -4.07834601e-15, -4.31324287e-15, -4.63257936e-15, -4.72992856e-15,\n",
       "       -5.77326160e-15, -5.82862436e-15, -6.37078116e-15, -6.38468388e-15,\n",
       "       -7.04704240e-15, -7.17832476e-15, -8.00052619e-15, -8.35628296e-15,\n",
       "       -9.80692782e-15, -1.00013746e-14, -1.09563729e-14, -1.10353857e-14,\n",
       "       -1.10669295e-14, -1.16689481e-14, -1.21346287e-14, -1.22484798e-14,\n",
       "       -1.23478858e-14, -1.29740536e-14, -1.39021866e-14, -1.40737561e-14,\n",
       "       -1.49713840e-14, -1.51588698e-14, -1.52594841e-14, -1.54520723e-14,\n",
       "       -1.60202835e-14, -1.68989337e-14, -1.71480988e-14, -1.76379035e-14,\n",
       "       -1.90198081e-14, -1.96534999e-14, -2.00450111e-14, -2.00740950e-14,\n",
       "       -2.05237818e-14, -2.14195210e-14, -2.25280730e-14, -2.28510412e-14,\n",
       "       -2.36385149e-14, -2.47237002e-14, -2.51329371e-14, -2.75930814e-14,\n",
       "       -2.76120193e-14, -2.77906222e-14, -2.81299342e-14, -2.87431134e-14,\n",
       "       -2.90027841e-14, -2.95864172e-14, -3.00314025e-14, -3.06188034e-14,\n",
       "       -3.13720176e-14, -3.25344342e-14, -3.38611647e-14, -3.44309577e-14,\n",
       "       -3.49255272e-14, -3.54342183e-14, -3.60284734e-14, -3.63680175e-14,\n",
       "       -3.66910704e-14, -3.87629834e-14, -3.96043437e-14, -3.97431087e-14,\n",
       "       -4.21174948e-14, -4.25806673e-14, -4.33794603e-14, -4.37419689e-14,\n",
       "       -4.48878175e-14, -4.58255799e-14, -4.61856385e-14, -4.76507735e-14,\n",
       "       -4.81641511e-14, -4.97979299e-14, -5.10797464e-14, -5.36940896e-14,\n",
       "       -5.49854722e-14, -5.51818198e-14, -5.55255957e-14, -5.69883959e-14,\n",
       "       -5.83841166e-14, -5.86711690e-14, -5.99249529e-14, -6.17036884e-14,\n",
       "       -6.42929782e-14, -6.54343427e-14, -6.63528311e-14, -6.70641918e-14,\n",
       "       -6.89841464e-14, -6.90749797e-14, -7.21249052e-14, -7.47668470e-14,\n",
       "       -8.01858651e-14, -8.38958208e-14, -8.40806310e-14, -8.43098962e-14,\n",
       "       -8.54488692e-14, -8.65311243e-14, -8.79201002e-14, -9.49697861e-14,\n",
       "       -1.00412077e-13, -1.08113415e-13, -1.12035738e-13, -1.19847739e-13,\n",
       "       -1.36634276e-13, -1.62993675e-13, -2.33675940e-13, -2.40427923e-13])"
      ]
     },
     "execution_count": 220,
     "metadata": {},
     "output_type": "execute_result"
    }
   ],
   "source": [
    "W"
   ]
  },
  {
   "cell_type": "code",
   "execution_count": null,
   "id": "3df83c18-b894-4458-bb62-cbdf9a96f80b",
   "metadata": {},
   "outputs": [],
   "source": []
  }
 ],
 "metadata": {
  "kernelspec": {
   "display_name": "Python 3",
   "language": "python",
   "name": "python3"
  },
  "language_info": {
   "codemirror_mode": {
    "name": "ipython",
    "version": 3
   },
   "file_extension": ".py",
   "mimetype": "text/x-python",
   "name": "python",
   "nbconvert_exporter": "python",
   "pygments_lexer": "ipython3",
   "version": "3.8.10"
  }
 },
 "nbformat": 4,
 "nbformat_minor": 5
}
